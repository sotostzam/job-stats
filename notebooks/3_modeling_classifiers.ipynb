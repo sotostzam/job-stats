{
 "cells": [
  {
   "cell_type": "markdown",
   "id": "9bfc3ef9",
   "metadata": {},
   "source": [
    "# Multi-class Modeling\n",
    "\n",
    "In this notebook I am apply different machine learning models to predict the skills that I need from the job descriptions.\n",
    "\n",
    "## Table of contents\n",
    "\n",
    "1. [Training Set](#TrainingSet)\n",
    "2. [Classifiers](#Classifiers)\n",
    "3. [Bag-of-Words](#Bag-of-Words)\n",
    "    1. [Null Accuracy](#Null-Accuracy)\n",
    "    2. [Optimizing BOW](#Optimizing-BOW)\n",
    "4. [Cross-Validation](#Cross-Validation)\n",
    "5. [Hyperparameter Tuning](#Hyperparameter-Tuning)\n",
    "6. [Dataset-Preparation](#Dataset-Preparation)\n",
    "    1. [Text Cleaning](#Text-Cleaning)\n",
    "    2. [Noun Chunk Extraction](#Noun-Chunk-Extraction)\n",
    "7. [Predictions](#Predictions)\n",
    "\n",
    "## Training Set"
   ]
  },
  {
   "cell_type": "code",
   "execution_count": 1,
   "id": "74efb47e",
   "metadata": {},
   "outputs": [],
   "source": [
    "import sys\n",
    "sys.path.append(\"..\")\n",
    "sys.path.append(\"../modeling/\")"
   ]
  },
  {
   "cell_type": "code",
   "execution_count": 2,
   "id": "aae5e582",
   "metadata": {},
   "outputs": [],
   "source": [
    "import pandas as pd                # Data processing\n",
    "import matplotlib.pyplot as plt    # Data visualization purposes\n",
    "import seaborn as sns              # Statistical data visualization\n",
    "sns.set_theme()                    # Seaborn will handle plotting theme\n",
    "%matplotlib inline"
   ]
  },
  {
   "cell_type": "code",
   "execution_count": 3,
   "id": "9943d25d",
   "metadata": {},
   "outputs": [
    {
     "data": {
      "text/plain": [
       "not_skill     3406\n",
       "hard_skill     524\n",
       "soft_skill      70\n",
       "Name: type, dtype: int64"
      ]
     },
     "execution_count": 3,
     "metadata": {},
     "output_type": "execute_result"
    }
   ],
   "source": [
    "df = pd.read_csv('noun_chunks_classified.csv')\n",
    "df['type'].value_counts()"
   ]
  },
  {
   "cell_type": "markdown",
   "id": "9ef8e17c",
   "metadata": {},
   "source": [
    "As we can see the data set is not balanced. By far the most records describe the not_skill feature. Let's try some undersampling on the most available data. What is also important to say here, is that we could try to oversample the lowest class in a future edit."
   ]
  },
  {
   "cell_type": "code",
   "execution_count": 4,
   "id": "4dfd5512",
   "metadata": {},
   "outputs": [
    {
     "data": {
      "text/plain": [
       "<AxesSubplot: >"
      ]
     },
     "execution_count": 4,
     "metadata": {},
     "output_type": "execute_result"
    },
    {
     "data": {
      "image/png": "[encoded data removed]",
      "text/plain": [
       "<Figure size 640x480 with 1 Axes>"
      ]
     },
     "metadata": {},
     "output_type": "display_data"
    }
   ],
   "source": [
    "df_skills     = df[df['type'] != \"not_skill\"]\n",
    "df_not_skills = df[df['type'] == \"not_skill\"].sample(n=len(df[df['type'] == \"hard_skill\"]))\n",
    "\n",
    "df = pd.concat([df_skills, df_not_skills], ignore_index=True)\n",
    "\n",
    "df['type'].value_counts().plot(kind='bar', rot=0)"
   ]
  },
  {
   "cell_type": "markdown",
   "id": "6e6f87b2",
   "metadata": {},
   "source": [
    "Let's split the dataset into train and test sets for some initial fitting."
   ]
  },
  {
   "cell_type": "code",
   "execution_count": 5,
   "id": "4669df0f",
   "metadata": {},
   "outputs": [
    {
     "data": {
      "text/plain": [
       "((782,), (336,))"
      ]
     },
     "execution_count": 5,
     "metadata": {},
     "output_type": "execute_result"
    }
   ],
   "source": [
    "from sklearn.model_selection import train_test_split\n",
    "\n",
    "# Extract features and prediction vectors\n",
    "X = df['chunks']\n",
    "y = df['type'].map({'not_skill':0, 'hard_skill':1, 'soft_skill':2})\n",
    "X_train, X_test, y_train, y_test = train_test_split(X, y, test_size = 0.3, random_state = 0)\n",
    "X_train.shape, X_test.shape"
   ]
  },
  {
   "cell_type": "markdown",
   "id": "d843dee1",
   "metadata": {},
   "source": [
    "## Classifiers\n",
    "\n",
    "For this part I am going to train various classifiers and compare the training results. In detail the classifiers I will use are:\n",
    "\n",
    "1. Multinomial Naive Bayes\n",
    "2. Support Vector Machine\n",
    "3. Linear Support Vector Machine\n",
    "4. Random Forest\n",
    "5. Logistic Regression"
   ]
  },
  {
   "cell_type": "code",
   "execution_count": 6,
   "id": "7c0b430e",
   "metadata": {},
   "outputs": [],
   "source": [
    "from sklearn.naive_bayes import MultinomialNB\n",
    "from sklearn.svm import SVC, LinearSVC\n",
    "from sklearn.ensemble import RandomForestClassifier\n",
    "from sklearn.linear_model import LogisticRegression\n",
    "\n",
    "models = [\n",
    "    MultinomialNB(),\n",
    "    SVC(),\n",
    "    LinearSVC(dual=False),\n",
    "    RandomForestClassifier(),\n",
    "    LogisticRegression()\n",
    "]"
   ]
  },
  {
   "cell_type": "markdown",
   "id": "98b5eba1",
   "metadata": {},
   "source": [
    "## Bag-of-Words\n",
    "\n",
    "The bag-of-words model is a simplified representation of corpus collection, often used in natural language processing. It is the way to transform text into numeric representations, used by the classifiers. In information retrieval `tf-idf` (term frequency–inverse document frequency) reflects the importance of a word in a document of the corpus."
   ]
  },
  {
   "cell_type": "code",
   "execution_count": 7,
   "id": "b9b56dc3",
   "metadata": {},
   "outputs": [
    {
     "name": "stdout",
     "output_type": "stream",
     "text": [
      "(782, 930) (336, 930)\n"
     ]
    }
   ],
   "source": [
    "import numpy as np\n",
    "from sklearn.feature_extraction.text import TfidfVectorizer\n",
    "\n",
    "vectorizer = TfidfVectorizer(stop_words='english')\n",
    "\n",
    "X_train_vec = vectorizer.fit_transform(X_train)\n",
    "X_test_vec  = vectorizer.transform(X_test)\n",
    "\n",
    "print(np.shape(X_train_vec), np.shape(X_test_vec))"
   ]
  },
  {
   "cell_type": "markdown",
   "id": "4815a8c5",
   "metadata": {},
   "source": [
    "Let's try to fit our models and measure the initial accuracy scores of the train and test sets."
   ]
  },
  {
   "cell_type": "code",
   "execution_count": 8,
   "id": "2e5f9b2c",
   "metadata": {},
   "outputs": [
    {
     "data": {
      "text/html": [
       "<div>\n",
       "<style scoped>\n",
       "    .dataframe tbody tr th:only-of-type {\n",
       "        vertical-align: middle;\n",
       "    }\n",
       "\n",
       "    .dataframe tbody tr th {\n",
       "        vertical-align: top;\n",
       "    }\n",
       "\n",
       "    .dataframe thead th {\n",
       "        text-align: right;\n",
       "    }\n",
       "</style>\n",
       "<table border=\"1\" class=\"dataframe\">\n",
       "  <thead>\n",
       "    <tr style=\"text-align: right;\">\n",
       "      <th></th>\n",
       "      <th>model</th>\n",
       "      <th>train_accuracy</th>\n",
       "      <th>test_accuracy</th>\n",
       "    </tr>\n",
       "  </thead>\n",
       "  <tbody>\n",
       "    <tr>\n",
       "      <th>0</th>\n",
       "      <td>MultinomialNB</td>\n",
       "      <td>0.892583</td>\n",
       "      <td>0.616071</td>\n",
       "    </tr>\n",
       "    <tr>\n",
       "      <th>1</th>\n",
       "      <td>SVC</td>\n",
       "      <td>0.975703</td>\n",
       "      <td>0.797619</td>\n",
       "    </tr>\n",
       "    <tr>\n",
       "      <th>2</th>\n",
       "      <td>LinearSVC</td>\n",
       "      <td>0.989770</td>\n",
       "      <td>0.812500</td>\n",
       "    </tr>\n",
       "    <tr>\n",
       "      <th>3</th>\n",
       "      <td>RandomForestClassifier</td>\n",
       "      <td>0.998721</td>\n",
       "      <td>0.833333</td>\n",
       "    </tr>\n",
       "    <tr>\n",
       "      <th>4</th>\n",
       "      <td>LogisticRegression</td>\n",
       "      <td>0.930946</td>\n",
       "      <td>0.803571</td>\n",
       "    </tr>\n",
       "  </tbody>\n",
       "</table>\n",
       "</div>"
      ],
      "text/plain": [
       "                    model  train_accuracy  test_accuracy\n",
       "0           MultinomialNB        0.892583       0.616071\n",
       "1                     SVC        0.975703       0.797619\n",
       "2               LinearSVC        0.989770       0.812500\n",
       "3  RandomForestClassifier        0.998721       0.833333\n",
       "4      LogisticRegression        0.930946       0.803571"
      ]
     },
     "execution_count": 8,
     "metadata": {},
     "output_type": "execute_result"
    }
   ],
   "source": [
    "measurements = []\n",
    "\n",
    "for model in models:\n",
    "    model.fit(X_train_vec, y_train)\n",
    "    score_train = model.score(X_train_vec, y_train)\n",
    "    score_test = model.score(X_test_vec, y_test)\n",
    "    measurements.append([model.__class__.__name__, score_train, score_test])\n",
    "\n",
    "results = pd.DataFrame(measurements, columns=['model', 'train_accuracy', 'test_accuracy'])\n",
    "results"
   ]
  },
  {
   "cell_type": "markdown",
   "id": "a77d449e",
   "metadata": {},
   "source": [
    "### Null Accuracy"
   ]
  },
  {
   "cell_type": "markdown",
   "id": "8b4df532",
   "metadata": {},
   "source": [
    "Let's check the most basic comparison of our models against the null accuracy score. This score will tell us if the models perform better than just selecting the most frequent class every time."
   ]
  },
  {
   "cell_type": "code",
   "execution_count": 9,
   "id": "04cd310c",
   "metadata": {},
   "outputs": [
    {
     "name": "stdout",
     "output_type": "stream",
     "text": [
      "Null accuracy score: 0.5179\n",
      "\n"
     ]
    }
   ],
   "source": [
    "# Null Accuracy\n",
    "class_choices = y_test.value_counts()\n",
    "null_accuracy = class_choices[0] / sum(class_choices)\n",
    "\n",
    "print('Null accuracy score: {0:0.4f}\\n'.format(null_accuracy))"
   ]
  },
  {
   "cell_type": "code",
   "execution_count": 10,
   "id": "6e331f97",
   "metadata": {},
   "outputs": [
    {
     "data": {
      "image/png": "[encoded data removed]",
      "text/plain": [
       "<Figure size 800x400 with 1 Axes>"
      ]
     },
     "metadata": {},
     "output_type": "display_data"
    }
   ],
   "source": [
    "plt.figure(figsize=(8,4))\n",
    "\n",
    "data_transformed = results.melt(id_vars='model', value_name='score', var_name='metrics')\n",
    "\n",
    "metrics_plt = sns.barplot(data=data_transformed, x='model', y='score', hue='metrics')\n",
    "metrics_plt.tick_params(labelsize=9)\n",
    "\n",
    "plt.axhline(y=null_accuracy, ls='--', c='darkred', linewidth=1.1)\n",
    "plt.text(-0.35, 0.52, 'Null accuracy', c='darkred', size='small')\n",
    "plt.ylim(0, 1.3)\n",
    "plt.tight_layout()\n",
    "plt.show()"
   ]
  },
  {
   "cell_type": "markdown",
   "id": "dcbf472e",
   "metadata": {},
   "source": [
    "### Optimizing BOW"
   ]
  },
  {
   "cell_type": "markdown",
   "id": "fd44788e",
   "metadata": {},
   "source": [
    "We can observe that all of the models perform way better than the \"null accuracy\" score. It means we have good first predictions.\n",
    "\n",
    "Before we move on, let's see if we can improve these accuracies by fine tuning the TfIdf vectorizer.\n",
    "One way is to increase the amount of n-grams to include more combinations than just unigrams.\n",
    "We will also use the option `sublinear_tf` which is a form of penalty indicating that when a term is X times more frequent, it shouldn't be X times as important.\n",
    "\n",
    "The scoring metric we are going to use is the `f1_score` function. As this is a multi-class setting, we will need to use one of these settings:\n",
    "\n",
    "- weighted (favours the majority class)\n",
    "- micro (no favoring)\n",
    "- macro (bigger penalty due to poor performance on minority classes)\n",
    "\n",
    "For this example we will use the micro setting."
   ]
  },
  {
   "cell_type": "code",
   "execution_count": 11,
   "id": "b4928ddb",
   "metadata": {},
   "outputs": [
    {
     "name": "stdout",
     "output_type": "stream",
     "text": [
      "F1-score of n-gram range (1, 1):\t [0.62202, 0.79762, 0.8125, 0.81548, 0.80655]\n",
      "F1-score of n-gram range (1, 2):\t [0.62202, 0.8006, 0.80357, 0.82143, 0.80952]\n",
      "F1-score of n-gram range (1, 3):\t [0.62202, 0.79762, 0.79762, 0.83036, 0.80357]\n",
      "F1-score of n-gram range (1, 4):\t [0.61607, 0.80357, 0.8006, 0.80357, 0.8006]\n",
      "F1-score of n-gram range (1, 5):\t [0.61607, 0.8006, 0.80357, 0.81845, 0.79762]\n",
      "F1-score of n-gram range (1, 6):\t [0.61012, 0.8006, 0.8006, 0.82738, 0.79762]\n",
      "F1-score of n-gram range (1, 7):\t [0.61012, 0.8006, 0.8006, 0.81845, 0.79762]\n",
      "F1-score of n-gram range (1, 8):\t [0.61012, 0.79762, 0.8006, 0.82738, 0.79762]\n",
      "F1-score of n-gram range (1, 9):\t [0.61012, 0.79762, 0.8006, 0.81845, 0.79762]\n",
      "F1-score of n-gram range (1, 10):\t [0.61012, 0.79762, 0.8006, 0.8006, 0.79762]\n"
     ]
    }
   ],
   "source": [
    "from sklearn.metrics import f1_score\n",
    "\n",
    "for n in range(1,11):\n",
    "    # convert training data to bag of words\n",
    "    vectorizer  = TfidfVectorizer(sublinear_tf=True, ngram_range=(1, n), stop_words='english')\n",
    "    X_train_vec = vectorizer.fit_transform(X_train)\n",
    "    X_test_vec  = vectorizer.transform(X_test)\n",
    "    \n",
    "    # train model and generate predictions\n",
    "    scores = []\n",
    "    for model in models:\n",
    "        model.fit(X_train_vec, y_train)\n",
    "        y_pred = model.predict(X_test_vec)\n",
    "    \n",
    "        # compute f-1 score\n",
    "        score = np.round(f1_score(y_test, y_pred, average='micro'), 5)\n",
    "        scores.append(score)\n",
    "    print('F1-score of n-gram range {}:\\t {}'.format((1,n), scores))"
   ]
  },
  {
   "cell_type": "markdown",
   "id": "d9942cc2",
   "metadata": {},
   "source": [
    "As we can see the best value for n in most models seems to be 3. Let's make this selection."
   ]
  },
  {
   "cell_type": "code",
   "execution_count": 12,
   "id": "353984eb",
   "metadata": {},
   "outputs": [],
   "source": [
    "vectorizer  = TfidfVectorizer(sublinear_tf=True, ngram_range=(1, 3), stop_words='english')\n",
    "X_vec = vectorizer.fit_transform(X)"
   ]
  },
  {
   "cell_type": "markdown",
   "id": "a8950bcb",
   "metadata": {},
   "source": [
    "## Cross-Validation\n",
    "\n",
    "Instead of utilizing the simple technique of *train-test-split*, another common practice is called **k-fold Cross-Validation** and aims to reduce overfitting. Cross-validation is a resampling procedure, which splits the data into **k** sets, and uses each set interchangably as the test set. It usually results to a less biased and less optimistic estimate of out models.\n",
    "\n",
    "One popular value for **k** is the 10-fold Cross Validation."
   ]
  },
  {
   "cell_type": "code",
   "execution_count": 13,
   "id": "943e517e",
   "metadata": {},
   "outputs": [],
   "source": [
    "from sklearn.model_selection import cross_val_score\n",
    "\n",
    "# Get cross validated scores for input models\n",
    "def get_cross_val_scores(models, x, y):\n",
    "    measurements = []\n",
    "    for model in models:\n",
    "        scores = cross_val_score(model, x, y, cv = 10, scoring = 'f1_micro')\n",
    "\n",
    "        for i, score in enumerate(scores):\n",
    "            measurements.append((model.__class__.__name__, i, score))\n",
    "\n",
    "    results = pd.DataFrame(measurements, columns=['model', 'fold', 'score'])\n",
    "    return results"
   ]
  },
  {
   "cell_type": "code",
   "execution_count": 14,
   "id": "bbc4ca50",
   "metadata": {},
   "outputs": [
    {
     "data": {
      "image/png": "[encoded data removed]",
      "text/plain": [
       "<Figure size 800x400 with 1 Axes>"
      ]
     },
     "metadata": {},
     "output_type": "display_data"
    }
   ],
   "source": [
    "cv_results = get_cross_val_scores(models, X_vec, y)\n",
    "\n",
    "plt.figure(figsize=(8,4))\n",
    "\n",
    "cs_metrics_bxplt = sns.boxplot(x='model', y='score', data=cv_results)\n",
    "cs_metrics_stplt = sns.stripplot(x='model', y='score', hue='model', data=cv_results,\n",
    "                                 size=4, jitter=True, linewidth=1, legend=False)\n",
    "\n",
    "cs_metrics_bxplt.tick_params(labelsize=9)\n",
    "plt.tight_layout()\n",
    "plt.show()"
   ]
  },
  {
   "cell_type": "code",
   "execution_count": 15,
   "id": "221bda9b",
   "metadata": {},
   "outputs": [
    {
     "data": {
      "text/plain": [
       "model\n",
       "LinearSVC                 0.804955\n",
       "LogisticRegression        0.785280\n",
       "MultinomialNB             0.784371\n",
       "SVC                       0.780808\n",
       "RandomForestClassifier    0.778113\n",
       "Name: score, dtype: float64"
      ]
     },
     "execution_count": 15,
     "metadata": {},
     "output_type": "execute_result"
    }
   ],
   "source": [
    "cv_results.groupby('model').score.mean().sort_values(ascending=False)"
   ]
  },
  {
   "cell_type": "markdown",
   "id": "f630a23e",
   "metadata": {},
   "source": [
    "## Hyperparameter Tuning\n",
    "\n",
    "The models we instatiated so far, could be potentially further improved by fine tuning their respective hyperparameter values. One process to perform hyperparameter tuning is called GridSearchCV, which exhaustively checks each pair of values to find the optimal. We will feed some sets of values to be checked into this process, as there is no way to find the best values for each hyperparameter in advance."
   ]
  },
  {
   "cell_type": "code",
   "execution_count": 16,
   "id": "52786347",
   "metadata": {},
   "outputs": [],
   "source": [
    "from sklearn.model_selection import GridSearchCV\n",
    "\n",
    "# Hyperparameter configurations for GridSearch\n",
    "params_mnb = {'alpha': np.arange(0.01, 1, 0.01)}\n",
    "\n",
    "params_svc = {'random_state': [0], 'C': np.arange(0.01, 1, 0.01), 'kernel': ['rbf','linear'], 'gamma': ['scale','auto'],\n",
    "              'probability': [True,False], 'decision_function_shape': ['ovo','ovr']}\n",
    "\n",
    "params_lsv = {'random_state': [0], 'dual': [True], 'C': np.arange(0.01, 1, 0.01), 'multi_class': ['ovr','crammer_singer']}\n",
    "\n",
    "params_rfc = {'random_state': [0], 'n_jobs': [-1], 'n_estimators': [50,100,200], 'min_samples_leaf': [1,2],\n",
    "              'max_depth': [None,5], 'min_samples_split': [2,5], 'oob_score': [True,False], 'warm_start': [True,False]}\n",
    "              \n",
    "params_lrc = {'random_state': [0], 'n_jobs': [-1], 'C': np.arange(0.01, 1, 0.01), 'warm_start': [True,False],\n",
    "              'multi_class': ['multinomial']}\n",
    "\n",
    "# Create the list of grid search models\n",
    "grid_searches = [\n",
    "    GridSearchCV(MultinomialNB(),          params_mnb, cv=10, scoring=\"f1_micro\", return_train_score=True, n_jobs=-1),\n",
    "    GridSearchCV(SVC(),                    params_svc, cv=10, scoring=\"f1_micro\", return_train_score=True, n_jobs=-1),\n",
    "    GridSearchCV(LinearSVC(),              params_lsv, cv=10, scoring=\"f1_micro\", return_train_score=True, n_jobs=-1),\n",
    "    GridSearchCV(RandomForestClassifier(), params_rfc, cv=10, scoring=\"f1_micro\", return_train_score=True, n_jobs=-1),\n",
    "    GridSearchCV(LogisticRegression(),     params_lrc, cv=10, scoring=\"f1_micro\", return_train_score=True, n_jobs=-1)\n",
    "]"
   ]
  },
  {
   "cell_type": "code",
   "execution_count": 17,
   "id": "3e4b6096",
   "metadata": {},
   "outputs": [
    {
     "name": "stdout",
     "output_type": "stream",
     "text": [
      "GridSearch for MultinomialNB finished after 6.63 seconds. Best parameters found:\n",
      "{'alpha': 0.21000000000000002}\n",
      "\n",
      "GridSearch for SVC finished after 897.99 seconds. Best parameters found:\n",
      "{'C': 0.99, 'decision_function_shape': 'ovo', 'gamma': 'scale', 'kernel': 'linear', 'probability': True, 'random_state': 0}\n",
      "\n",
      "GridSearch for LinearSVC finished after 7.61 seconds. Best parameters found:\n",
      "{'C': 0.88, 'dual': True, 'multi_class': 'crammer_singer', 'random_state': 0}\n",
      "\n",
      "GridSearch for RandomForestClassifier finished after 270.92 seconds. Best parameters found:\n",
      "{'max_depth': None, 'min_samples_leaf': 1, 'min_samples_split': 5, 'n_estimators': 200, 'n_jobs': -1, 'oob_score': True, 'random_state': 0, 'warm_start': True}\n",
      "\n",
      "GridSearch for LogisticRegression finished after 72.41 seconds. Best parameters found:\n",
      "{'C': 0.9, 'multi_class': 'multinomial', 'n_jobs': -1, 'random_state': 0, 'warm_start': True}\n",
      "\n"
     ]
    }
   ],
   "source": [
    "import time\n",
    "\n",
    "# Try to fit the models using the Grid Search and update models with optimal hyperparameters\n",
    "index = 0\n",
    "gs_scores = []\n",
    "for gs in grid_searches:\n",
    "    model_name = models[index].__class__.__name__\n",
    "    \n",
    "    start = time.time()\n",
    "    gs.fit(X_vec, y)\n",
    "    end = time.time()\n",
    "    \n",
    "    print(f'GridSearch for {model_name} finished after {round(end-start, 2)} seconds. Best parameters found:')\n",
    "    print(f'{gs.best_params_}\\n')\n",
    "    \n",
    "    models[index] = gs.best_estimator_\n",
    "    gs_scores.append((model_name, round(gs.best_score_, 4)))\n",
    "    index += 1\n",
    "gs_scores = pd.DataFrame(gs_scores, columns=['model', 'score'])"
   ]
  },
  {
   "cell_type": "code",
   "execution_count": 18,
   "id": "2d1a1299",
   "metadata": {},
   "outputs": [
    {
     "data": {
      "image/png": "[encoded data removed]",
      "text/plain": [
       "<Figure size 700x400 with 1 Axes>"
      ]
     },
     "metadata": {},
     "output_type": "display_data"
    }
   ],
   "source": [
    "plt.figure(figsize=(7,4))\n",
    "\n",
    "metrics_plt = sns.barplot(gs_scores, x='score', y='model', orient='h')\n",
    "metrics_plt.tick_params(labelsize=10)\n",
    "metrics_plt.bar_label(metrics_plt.containers[0], size=10, padding=5)\n",
    "\n",
    "plt.xlim(0, 1)\n",
    "plt.tight_layout()\n",
    "plt.show()"
   ]
  },
  {
   "cell_type": "markdown",
   "id": "9ec40ef5",
   "metadata": {},
   "source": [
    "We can see that almost all models had a very small increase in their performance. The best models seem to be Multinomial Naive Bayes and LinearSVC."
   ]
  },
  {
   "cell_type": "markdown",
   "id": "837f42e8",
   "metadata": {},
   "source": [
    "## Dataset Preparation"
   ]
  },
  {
   "cell_type": "code",
   "execution_count": 19,
   "id": "a8d97ef3",
   "metadata": {},
   "outputs": [],
   "source": [
    "from modeling.database import MongoDB\n",
    "db = MongoDB()\n",
    "df = pd.DataFrame(list(db.get_all_documents()))"
   ]
  },
  {
   "cell_type": "markdown",
   "id": "2f8c3bcc",
   "metadata": {},
   "source": [
    "### Text cleaning"
   ]
  },
  {
   "cell_type": "code",
   "execution_count": 20,
   "id": "3179a0b1",
   "metadata": {},
   "outputs": [],
   "source": [
    "gr_chars = \"ΑαΆάΒβΓγΔδΕεΈέΖζΗηΉήΘθΙιΊίΚκΛλΜμΝνΞξΟοΌόΠπΡρΣσςΤτΥυΎύΦφΧχΨψΩωΏώ\"\n",
    "\n",
    "def remove_greek(desc):\n",
    "    for char in gr_chars:\n",
    "        if char in desc:\n",
    "            desc = desc.replace(char, '')\n",
    "    return desc\n",
    "\n",
    "# Remove Greek words as the ads were meant for Greece\n",
    "df['description'] = df['description'].apply(lambda x: remove_greek(x))\n",
    "\n",
    "# Remove usual examples\n",
    "df['description'] = df['description'].str.replace('e.g.', '', regex=False)\n",
    "df['description'] = df['description'].str.replace('i.e.', '', regex=False)\n",
    "\n",
    "# Remove e-mails\n",
    "df['description'] = df['description'].str.replace(r'\\b[\\w\\.-]+@[\\w\\.-]+\\.\\w{2,6}\\b', '', regex=True)\n",
    "\n",
    "# Remove links\n",
    "df['description'] = df['description'].str.replace(r'(https?:\\/\\/)?([\\da-z\\.-]+)\\.([a-z\\.]{2,6})([\\/\\w \\.-]*)', '', regex=True)\n",
    "\n",
    "# Remove hashtags\n",
    "df['description'] = df['description'].str.replace(r'\\B#([a-z0-9]{1,})', '', regex=True)\n",
    "\n",
    "# Remove special characters, new lines and whitespaces\n",
    "df['description'] = df['description'].str.replace(r'[^\\w\\s+#]', ' ', regex=True)\n",
    "df['description'] = df['description'].str.replace(r'(\\s{2,})|(\\n+)', ' ', regex=True)"
   ]
  },
  {
   "cell_type": "markdown",
   "id": "7b4b818d",
   "metadata": {},
   "source": [
    "### Noun Chunk Extraction"
   ]
  },
  {
   "cell_type": "code",
   "execution_count": 21,
   "id": "8e4789e3",
   "metadata": {},
   "outputs": [
    {
     "data": {
      "text/plain": [
       "50612"
      ]
     },
     "execution_count": 21,
     "metadata": {},
     "output_type": "execute_result"
    }
   ],
   "source": [
    "import spacy\n",
    "\n",
    "nlp = spacy.load(\"en_core_web_sm\")\n",
    "\n",
    "noun_phrases = []\n",
    "for doc in nlp.pipe(df['description'].astype('unicode').values, batch_size=50, n_process=6):\n",
    "    assert doc.has_annotation(\"DEP\")\n",
    "    for chunk in doc.noun_chunks:\n",
    "        noun_phrases.append(chunk.text)\n",
    "\n",
    "#nouns_phrases_set = list(set(noun_phrases))\n",
    "nouns_phrases_set = list(noun_phrases)\n",
    "\n",
    "df = pd.DataFrame(nouns_phrases_set, columns=[\"chunks\"])\n",
    "len(df)"
   ]
  },
  {
   "cell_type": "markdown",
   "id": "db7393b2",
   "metadata": {},
   "source": [
    "## Predictions"
   ]
  },
  {
   "cell_type": "code",
   "execution_count": 22,
   "id": "059b60ec",
   "metadata": {},
   "outputs": [
    {
     "data": {
      "text/plain": [
       "(50612, 4501)"
      ]
     },
     "execution_count": 22,
     "metadata": {},
     "output_type": "execute_result"
    }
   ],
   "source": [
    "X_dataset_vec = vectorizer.transform(df['chunks'])\n",
    "X_dataset_vec.shape"
   ]
  },
  {
   "cell_type": "code",
   "execution_count": 23,
   "id": "2d646655",
   "metadata": {},
   "outputs": [],
   "source": [
    "best_model = models[gs_scores['score'].idxmax()]\n",
    "\n",
    "y_pred = best_model.predict(X_dataset_vec)\n",
    "df['prediction'] = y_pred"
   ]
  },
  {
   "cell_type": "markdown",
   "id": "3b421c9f",
   "metadata": {},
   "source": [
    "Let's use the `CountVectorizer` model to exctract the most common \"hard_skill\" unigrams and bigrams from our predictions."
   ]
  },
  {
   "cell_type": "code",
   "execution_count": 25,
   "id": "5a12f55d",
   "metadata": {},
   "outputs": [
    {
     "data": {
      "text/html": [
       "<div>\n",
       "<style scoped>\n",
       "    .dataframe tbody tr th:only-of-type {\n",
       "        vertical-align: middle;\n",
       "    }\n",
       "\n",
       "    .dataframe tbody tr th {\n",
       "        vertical-align: top;\n",
       "    }\n",
       "\n",
       "    .dataframe thead th {\n",
       "        text-align: right;\n",
       "    }\n",
       "</style>\n",
       "<table border=\"1\" class=\"dataframe\">\n",
       "  <thead>\n",
       "    <tr style=\"text-align: right;\">\n",
       "      <th></th>\n",
       "      <th>frequency</th>\n",
       "    </tr>\n",
       "  </thead>\n",
       "  <tbody>\n",
       "    <tr>\n",
       "      <th>data</th>\n",
       "      <td>2629</td>\n",
       "    </tr>\n",
       "    <tr>\n",
       "      <th>experience</th>\n",
       "      <td>1284</td>\n",
       "    </tr>\n",
       "    <tr>\n",
       "      <th>analytics</th>\n",
       "      <td>527</td>\n",
       "    </tr>\n",
       "    <tr>\n",
       "      <th>skills</th>\n",
       "      <td>501</td>\n",
       "    </tr>\n",
       "    <tr>\n",
       "      <th>science</th>\n",
       "      <td>394</td>\n",
       "    </tr>\n",
       "    <tr>\n",
       "      <th>sql</th>\n",
       "      <td>364</td>\n",
       "    </tr>\n",
       "    <tr>\n",
       "      <th>knowledge</th>\n",
       "      <td>359</td>\n",
       "    </tr>\n",
       "    <tr>\n",
       "      <th>engineering</th>\n",
       "      <td>349</td>\n",
       "    </tr>\n",
       "    <tr>\n",
       "      <th>learning</th>\n",
       "      <td>332</td>\n",
       "    </tr>\n",
       "    <tr>\n",
       "      <th>tools</th>\n",
       "      <td>326</td>\n",
       "    </tr>\n",
       "    <tr>\n",
       "      <th>python</th>\n",
       "      <td>314</td>\n",
       "    </tr>\n",
       "    <tr>\n",
       "      <th>ml</th>\n",
       "      <td>290</td>\n",
       "    </tr>\n",
       "    <tr>\n",
       "      <th>computer</th>\n",
       "      <td>279</td>\n",
       "    </tr>\n",
       "    <tr>\n",
       "      <th>ability</th>\n",
       "      <td>278</td>\n",
       "    </tr>\n",
       "    <tr>\n",
       "      <th>cloud</th>\n",
       "      <td>275</td>\n",
       "    </tr>\n",
       "    <tr>\n",
       "      <th>machine</th>\n",
       "      <td>275</td>\n",
       "    </tr>\n",
       "    <tr>\n",
       "      <th>services</th>\n",
       "      <td>264</td>\n",
       "    </tr>\n",
       "    <tr>\n",
       "      <th>degree</th>\n",
       "      <td>252</td>\n",
       "    </tr>\n",
       "    <tr>\n",
       "      <th>machine learning</th>\n",
       "      <td>250</td>\n",
       "    </tr>\n",
       "    <tr>\n",
       "      <th>english</th>\n",
       "      <td>242</td>\n",
       "    </tr>\n",
       "    <tr>\n",
       "      <th>computer science</th>\n",
       "      <td>239</td>\n",
       "    </tr>\n",
       "    <tr>\n",
       "      <th>bi</th>\n",
       "      <td>221</td>\n",
       "    </tr>\n",
       "    <tr>\n",
       "      <th>azure</th>\n",
       "      <td>220</td>\n",
       "    </tr>\n",
       "    <tr>\n",
       "      <th>design</th>\n",
       "      <td>215</td>\n",
       "    </tr>\n",
       "    <tr>\n",
       "      <th>analysis</th>\n",
       "      <td>212</td>\n",
       "    </tr>\n",
       "  </tbody>\n",
       "</table>\n",
       "</div>"
      ],
      "text/plain": [
       "                  frequency\n",
       "data                   2629\n",
       "experience             1284\n",
       "analytics               527\n",
       "skills                  501\n",
       "science                 394\n",
       "sql                     364\n",
       "knowledge               359\n",
       "engineering             349\n",
       "learning                332\n",
       "tools                   326\n",
       "python                  314\n",
       "ml                      290\n",
       "computer                279\n",
       "ability                 278\n",
       "cloud                   275\n",
       "machine                 275\n",
       "services                264\n",
       "degree                  252\n",
       "machine learning        250\n",
       "english                 242\n",
       "computer science        239\n",
       "bi                      221\n",
       "azure                   220\n",
       "design                  215\n",
       "analysis                212"
      ]
     },
     "execution_count": 25,
     "metadata": {},
     "output_type": "execute_result"
    }
   ],
   "source": [
    "from sklearn.feature_extraction.text import CountVectorizer\n",
    "\n",
    "count_vectorizer = CountVectorizer(ngram_range=(1,2), analyzer='word', stop_words='english')\n",
    "sparse_matrix = count_vectorizer.fit_transform(df[df['prediction']==1]['chunks'])\n",
    "\n",
    "frequencies = sum(sparse_matrix).toarray()[0]\n",
    "\n",
    "ngrams = pd.DataFrame(frequencies, index=count_vectorizer.get_feature_names_out(), columns=['frequency'])\n",
    "ngrams = ngrams.sort_values(by='frequency', ascending=False)\n",
    "ngrams[:25]"
   ]
  },
  {
   "cell_type": "markdown",
   "id": "4a958623",
   "metadata": {},
   "source": [
    "As we can see, our classifier was able to categorize a lot of useful tools out of the noun phrases.\n",
    "\n",
    "In the next notebook, I will attempt to improve the classification task, by introducing neural network architectures."
   ]
  },
  {
   "cell_type": "code",
   "execution_count": null,
   "id": "d1f6c8e7",
   "metadata": {},
   "outputs": [],
   "source": []
  }
 ],
 "metadata": {
  "kernelspec": {
   "display_name": "Python 3 (ipykernel)",
   "language": "python",
   "name": "python3"
  },
  "language_info": {
   "codemirror_mode": {
    "name": "ipython",
    "version": 3
   },
   "file_extension": ".py",
   "mimetype": "text/x-python",
   "name": "python",
   "nbconvert_exporter": "python",
   "pygments_lexer": "ipython3",
   "version": "3.10.8"
  }
 },
 "nbformat": 4,
 "nbformat_minor": 5
}
