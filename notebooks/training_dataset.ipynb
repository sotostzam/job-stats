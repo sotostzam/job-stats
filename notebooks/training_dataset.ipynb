{
 "cells": [
  {
   "cell_type": "code",
   "execution_count": 1,
   "id": "358a668b",
   "metadata": {},
   "outputs": [],
   "source": [
    "import sys\n",
    "sys.path.append(\"..\")\n",
    "sys.path.append(\"../modeling/\")"
   ]
  },
  {
   "cell_type": "code",
   "execution_count": 2,
   "id": "3aa26f6e",
   "metadata": {},
   "outputs": [],
   "source": [
    "import pandas as pd                # Data processing\n",
    "import matplotlib.pyplot as plt    # Data visualization purposes\n",
    "import seaborn as sns              # Statistical data visualization\n",
    "%matplotlib inline\n",
    "sns.set_theme()"
   ]
  },
  {
   "cell_type": "code",
   "execution_count": 3,
   "id": "93b464b2",
   "metadata": {},
   "outputs": [],
   "source": [
    "from modeling.database import MongoDB\n",
    "db = MongoDB()"
   ]
  },
  {
   "cell_type": "code",
   "execution_count": 4,
   "id": "e3fa3ae9",
   "metadata": {},
   "outputs": [],
   "source": [
    "documents = db.get_all_documents()\n",
    "df = pd.DataFrame(list(documents))"
   ]
  },
  {
   "cell_type": "markdown",
   "id": "4e0b0d25",
   "metadata": {},
   "source": [
    "### Text cleaning"
   ]
  },
  {
   "cell_type": "code",
   "execution_count": 5,
   "id": "068d5b1c",
   "metadata": {},
   "outputs": [
    {
     "data": {
      "text/plain": [
       "0    we are looking for a bright machine learning e...\n",
       "1    role description as a multidisciplinary team m...\n",
       "2    intracom telecom is a global telecommunication...\n",
       "3    the continuous development of web and mobile a...\n",
       "4    about us baresquare is changing the world of a...\n",
       "Name: description, dtype: object"
      ]
     },
     "execution_count": 5,
     "metadata": {},
     "output_type": "execute_result"
    }
   ],
   "source": [
    "df['description'] = df['description'].apply(lambda x: x.lower())               # Convert to lower case\n",
    "df['description'] = df['description'].str.replace(r'[^\\w\\s]', ' ', regex=True) # Remove special characters\n",
    "df['description'] = df['description'].str.replace(r'\\d+', '', regex=True)      # Remove digits\n",
    "df['description'] = df['description'].str.replace(r'\\s*\\n+', ' ', regex=True)  # Remove new lines and whitespaces\n",
    "df['description'].head()"
   ]
  },
  {
   "cell_type": "code",
   "execution_count": 6,
   "id": "4f759753",
   "metadata": {},
   "outputs": [
    {
     "data": {
      "text/plain": [
       "0    we are looking for a bright machine learning e...\n",
       "1    role description as a multidisciplinary team m...\n",
       "2    intracom telecom is a global telecommunication...\n",
       "3    the continuous development of web and mobile a...\n",
       "4    about us baresquare is changing the world of a...\n",
       "Name: description, dtype: object"
      ]
     },
     "execution_count": 6,
     "metadata": {},
     "output_type": "execute_result"
    }
   ],
   "source": [
    "#df['description'] = df['description'].apply(lambda x: [word for word in x if len(word) > 1 and word != \"r\"])\n",
    "df['description'] = df['description'].str.replace('e g', '')\n",
    "df['description'].head()"
   ]
  },
  {
   "cell_type": "code",
   "execution_count": 7,
   "id": "2583fa65",
   "metadata": {},
   "outputs": [],
   "source": [
    "import spacy\n",
    "\n",
    "# Load English tokenizer, tagger, parser and NER\n",
    "nlp = spacy.load(\"en_core_web_sm\")"
   ]
  },
  {
   "cell_type": "code",
   "execution_count": 8,
   "id": "6a46dd3b",
   "metadata": {},
   "outputs": [
    {
     "name": "stdout",
     "output_type": "stream",
     "text": [
      "734\n"
     ]
    }
   ],
   "source": [
    "doc = nlp(df['description'][100])\n",
    "#print(\"Noun phrases:\", [chunk.text for chunk in doc.noun_chunks])\n",
    "print(len(doc))"
   ]
  },
  {
   "cell_type": "code",
   "execution_count": 9,
   "id": "0aaacab7",
   "metadata": {},
   "outputs": [],
   "source": [
    "noun_phrases = []\n",
    "for doc in nlp.pipe(df['description'].astype('unicode').values, batch_size=50, n_process=3):\n",
    "    #if doc.has_annotation(\"DEP\"):\n",
    "    assert doc.has_annotation(\"DEP\")\n",
    "    for chunk in doc.noun_chunks:\n",
    "        noun_phrases.append(chunk.text)"
   ]
  },
  {
   "cell_type": "code",
   "execution_count": 10,
   "id": "82104742",
   "metadata": {},
   "outputs": [
    {
     "data": {
      "text/plain": [
       "11802"
      ]
     },
     "execution_count": 10,
     "metadata": {},
     "output_type": "execute_result"
    }
   ],
   "source": [
    "nouns_phrases_set = list(set(noun_phrases))\n",
    "len(nouns_phrases_set)"
   ]
  },
  {
   "cell_type": "code",
   "execution_count": 11,
   "id": "a71c1a87",
   "metadata": {},
   "outputs": [],
   "source": [
    "import random\n",
    "\n",
    "#nouns_phrases_set[:100]\n",
    "selection = random.sample(nouns_phrases_set, 4000)"
   ]
  },
  {
   "cell_type": "code",
   "execution_count": 12,
   "id": "7c5674c2",
   "metadata": {},
   "outputs": [],
   "source": [
    "import numpy as np\n",
    "\n",
    "df = pd.DataFrame(selection, columns=[\"phrase\"])\n",
    "df[\"type\"] = np.nan\n",
    "\n",
    "df.to_csv('noun_phrases.csv', index=False)"
   ]
  },
  {
   "cell_type": "code",
   "execution_count": 13,
   "id": "93cee3ff",
   "metadata": {},
   "outputs": [
    {
     "data": {
      "text/html": [
       "<div>\n",
       "<style scoped>\n",
       "    .dataframe tbody tr th:only-of-type {\n",
       "        vertical-align: middle;\n",
       "    }\n",
       "\n",
       "    .dataframe tbody tr th {\n",
       "        vertical-align: top;\n",
       "    }\n",
       "\n",
       "    .dataframe thead th {\n",
       "        text-align: right;\n",
       "    }\n",
       "</style>\n",
       "<table border=\"1\" class=\"dataframe\">\n",
       "  <thead>\n",
       "    <tr style=\"text-align: right;\">\n",
       "      <th></th>\n",
       "      <th>phrase</th>\n",
       "      <th>type</th>\n",
       "    </tr>\n",
       "  </thead>\n",
       "  <tbody>\n",
       "    <tr>\n",
       "      <th>0</th>\n",
       "      <td>initiative</td>\n",
       "      <td>NaN</td>\n",
       "    </tr>\n",
       "    <tr>\n",
       "      <th>1</th>\n",
       "      <td>edge machine learning algorithms</td>\n",
       "      <td>NaN</td>\n",
       "    </tr>\n",
       "    <tr>\n",
       "      <th>2</th>\n",
       "      <td>open science platform</td>\n",
       "      <td>NaN</td>\n",
       "    </tr>\n",
       "    <tr>\n",
       "      <th>3</th>\n",
       "      <td>snowflake</td>\n",
       "      <td>NaN</td>\n",
       "    </tr>\n",
       "    <tr>\n",
       "      <th>4</th>\n",
       "      <td>initiatives</td>\n",
       "      <td>NaN</td>\n",
       "    </tr>\n",
       "    <tr>\n",
       "      <th>...</th>\n",
       "      <td>...</td>\n",
       "      <td>...</td>\n",
       "    </tr>\n",
       "    <tr>\n",
       "      <th>3995</th>\n",
       "      <td>advanced tools</td>\n",
       "      <td>NaN</td>\n",
       "    </tr>\n",
       "    <tr>\n",
       "      <th>3996</th>\n",
       "      <td>the processing</td>\n",
       "      <td>NaN</td>\n",
       "    </tr>\n",
       "    <tr>\n",
       "      <th>3997</th>\n",
       "      <td>a more equal opportunity workplace</td>\n",
       "      <td>NaN</td>\n",
       "    </tr>\n",
       "    <tr>\n",
       "      <th>3998</th>\n",
       "      <td>θέση και</td>\n",
       "      <td>NaN</td>\n",
       "    </tr>\n",
       "    <tr>\n",
       "      <th>3999</th>\n",
       "      <td>a practice</td>\n",
       "      <td>NaN</td>\n",
       "    </tr>\n",
       "  </tbody>\n",
       "</table>\n",
       "<p>4000 rows × 2 columns</p>\n",
       "</div>"
      ],
      "text/plain": [
       "                                  phrase  type\n",
       "0                             initiative   NaN\n",
       "1       edge machine learning algorithms   NaN\n",
       "2                  open science platform   NaN\n",
       "3                              snowflake   NaN\n",
       "4                            initiatives   NaN\n",
       "...                                  ...   ...\n",
       "3995                      advanced tools   NaN\n",
       "3996                      the processing   NaN\n",
       "3997  a more equal opportunity workplace   NaN\n",
       "3998                            θέση και   NaN\n",
       "3999                          a practice   NaN\n",
       "\n",
       "[4000 rows x 2 columns]"
      ]
     },
     "execution_count": 13,
     "metadata": {},
     "output_type": "execute_result"
    }
   ],
   "source": [
    "df"
   ]
  },
  {
   "cell_type": "code",
   "execution_count": null,
   "id": "0760eae1",
   "metadata": {},
   "outputs": [],
   "source": []
  }
 ],
 "metadata": {
  "kernelspec": {
   "display_name": "Python 3 (ipykernel)",
   "language": "python",
   "name": "python3"
  },
  "language_info": {
   "codemirror_mode": {
    "name": "ipython",
    "version": 3
   },
   "file_extension": ".py",
   "mimetype": "text/x-python",
   "name": "python",
   "nbconvert_exporter": "python",
   "pygments_lexer": "ipython3",
   "version": "3.10.8"
  }
 },
 "nbformat": 4,
 "nbformat_minor": 5
}
