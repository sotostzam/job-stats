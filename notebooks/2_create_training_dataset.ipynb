{
 "cells": [
  {
   "cell_type": "markdown",
   "id": "d0039620",
   "metadata": {},
   "source": [
    "# Training Dataset Creation"
   ]
  },
  {
   "cell_type": "code",
   "execution_count": 1,
   "id": "358a668b",
   "metadata": {},
   "outputs": [],
   "source": [
    "import sys\n",
    "sys.path.append(\"..\")\n",
    "sys.path.append(\"../modeling/\")"
   ]
  },
  {
   "cell_type": "code",
   "execution_count": 2,
   "id": "3aa26f6e",
   "metadata": {},
   "outputs": [],
   "source": [
    "import pandas as pd                # Data processing\n",
    "import matplotlib.pyplot as plt    # Data visualization purposes\n",
    "import seaborn as sns              # Statistical data visualization\n",
    "sns.set_theme()                    # Seaborn will handle plotting theme\n",
    "%matplotlib inline"
   ]
  },
  {
   "cell_type": "code",
   "execution_count": 3,
   "id": "93b464b2",
   "metadata": {},
   "outputs": [],
   "source": [
    "from modeling.database import MongoDB\n",
    "db = MongoDB()\n",
    "df = pd.DataFrame(list(db.get_all_documents()))"
   ]
  },
  {
   "cell_type": "markdown",
   "id": "4e0b0d25",
   "metadata": {},
   "source": [
    "## Text cleaning"
   ]
  },
  {
   "cell_type": "code",
   "execution_count": 4,
   "id": "b66536af",
   "metadata": {},
   "outputs": [],
   "source": [
    "gr_chars = \"ΑαΆάΒβΓγΔδΕεΈέΖζΗηΉήΘθΙιΊίΚκΛλΜμΝνΞξΟοΌόΠπΡρΣσςΤτΥυΎύΦφΧχΨψΩωΏώ\"\n",
    "\n",
    "def remove_greek(desc):\n",
    "    for char in gr_chars:\n",
    "        if char in desc:\n",
    "            desc = desc.replace(char, '')\n",
    "    return desc"
   ]
  },
  {
   "cell_type": "code",
   "execution_count": 5,
   "id": "0ed59746",
   "metadata": {},
   "outputs": [],
   "source": [
    "# Remove Greek words as the ads were meant for Greece\n",
    "df['description'] = df['description'].apply(lambda x: remove_greek(x))\n",
    "\n",
    "# Remove usual examples\n",
    "df['description'] = df['description'].str.replace('e.g.', '', regex=False)\n",
    "df['description'] = df['description'].str.replace('i.e.', '', regex=False)\n",
    "\n",
    "# Remove e-mails\n",
    "df['description'] = df['description'].str.replace(r'\\b[\\w\\.-]+@[\\w\\.-]+\\.\\w{2,6}\\b', '', regex=True)\n",
    "\n",
    "# Remove links\n",
    "df['description'] = df['description'].str.replace(r'(https?:\\/\\/)?([\\da-z\\.-]+)\\.([a-z\\.]{2,6})([\\/\\w \\.-]*)', '', regex=True)\n",
    "\n",
    "# Remove hashtags\n",
    "df['description'] = df['description'].str.replace(r'\\B#([a-z0-9]{1,})', '', regex=True)\n",
    "\n",
    "# Rest\n",
    "df['description'] = df['description'].str.replace(r'[^\\w\\s+#]', ' ', regex=True)        # Remove special characters\n",
    "df['description'] = df['description'].str.replace(r'(\\s{2,})|(\\n+)', ' ', regex=True)   # Remove new lines and whitespaces"
   ]
  },
  {
   "cell_type": "markdown",
   "id": "9a286ce3",
   "metadata": {},
   "source": [
    "## Noun Chunk Extraction"
   ]
  },
  {
   "cell_type": "code",
   "execution_count": 6,
   "id": "2583fa65",
   "metadata": {},
   "outputs": [],
   "source": [
    "import spacy\n",
    "\n",
    "# Load English tokenizer, tagger, parser and NER\n",
    "nlp = spacy.load(\"en_core_web_sm\")"
   ]
  },
  {
   "cell_type": "code",
   "execution_count": 7,
   "id": "6a46dd3b",
   "metadata": {},
   "outputs": [
    {
     "name": "stdout",
     "output_type": "stream",
     "text": [
      "668\n"
     ]
    }
   ],
   "source": [
    "doc = nlp(df['description'][100])\n",
    "#print(\"Noun phrases:\", [chunk.text for chunk in doc.noun_chunks])\n",
    "print(len(doc))"
   ]
  },
  {
   "cell_type": "code",
   "execution_count": 8,
   "id": "0aaacab7",
   "metadata": {},
   "outputs": [],
   "source": [
    "noun_phrases = []\n",
    "for doc in nlp.pipe(df['description'].astype('unicode').values, batch_size=50, n_process=6):\n",
    "    assert doc.has_annotation(\"DEP\")\n",
    "    for chunk in doc.noun_chunks:\n",
    "        noun_phrases.append(chunk.text)"
   ]
  },
  {
   "cell_type": "code",
   "execution_count": 9,
   "id": "82104742",
   "metadata": {},
   "outputs": [
    {
     "data": {
      "text/plain": [
       "12081"
      ]
     },
     "execution_count": 9,
     "metadata": {},
     "output_type": "execute_result"
    }
   ],
   "source": [
    "nouns_phrases_set = list(set(noun_phrases))\n",
    "len(nouns_phrases_set)"
   ]
  },
  {
   "cell_type": "markdown",
   "id": "a7a67bd9",
   "metadata": {},
   "source": [
    "## Training Set Selection"
   ]
  },
  {
   "cell_type": "code",
   "execution_count": 10,
   "id": "a71c1a87",
   "metadata": {},
   "outputs": [],
   "source": [
    "import random\n",
    "\n",
    "random.seed(10)\n",
    "selection = random.sample(nouns_phrases_set, 4000)\n",
    "\n",
    "df_train = pd.DataFrame(selection, columns=[\"chunks\"])\n",
    "df_train[\"type\"] = None\n",
    "\n",
    "df_train.to_csv('noun_chunks.csv', index=False)"
   ]
  },
  {
   "cell_type": "code",
   "execution_count": null,
   "id": "0760eae1",
   "metadata": {},
   "outputs": [],
   "source": []
  }
 ],
 "metadata": {
  "kernelspec": {
   "display_name": "Python 3 (ipykernel)",
   "language": "python",
   "name": "python3"
  },
  "language_info": {
   "codemirror_mode": {
    "name": "ipython",
    "version": 3
   },
   "file_extension": ".py",
   "mimetype": "text/x-python",
   "name": "python",
   "nbconvert_exporter": "python",
   "pygments_lexer": "ipython3",
   "version": "3.10.8"
  }
 },
 "nbformat": 4,
 "nbformat_minor": 5
}
