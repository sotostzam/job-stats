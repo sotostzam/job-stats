{
 "cells": [
  {
   "cell_type": "markdown",
   "id": "f5163de6",
   "metadata": {},
   "source": [
    "# Multi-class Modeling (Using Neural Networks)\n",
    "\n",
    "In this notebook I am apply different machine learning models to predict the skills that I need from the job descriptions.\n",
    "\n",
    "## Table of contents\n",
    "\n",
    "1. [Dataset preparation](#Dataset-Preparation)\n",
    "2. [Text preprocessing](#Text-Preprocessing)\n",
    "3. [Word Embeddings](#Word-Embeddings)\n",
    "    1. [Model Configuration](#Model-Configuration)\n",
    "4. [Word2vec](#Word2vec)\n",
    "\n",
    "## Dataset Preparation"
   ]
  },
  {
   "cell_type": "code",
   "execution_count": 1,
   "id": "63cf97d3",
   "metadata": {},
   "outputs": [],
   "source": [
    "import sys\n",
    "sys.path.append(\"..\")\n",
    "sys.path.append(\"../modeling/\")"
   ]
  },
  {
   "cell_type": "code",
   "execution_count": 2,
   "id": "54cf07a9",
   "metadata": {},
   "outputs": [],
   "source": [
    "import io\n",
    "import random\n",
    "import pandas as pd                # Data processing\n",
    "\n",
    "# Visualization imports\n",
    "import matplotlib.pyplot as plt    # Data visualization purposes\n",
    "import seaborn as sns              # Statistical data visualization\n",
    "sns.set_theme()                    # Seaborn will handle plotting theme\n",
    "%matplotlib inline\n",
    "\n",
    "# Scikit-learn imports\n",
    "from sklearn.model_selection import train_test_split\n",
    "\n",
    "# Tensorflow imports\n",
    "import tensorflow as tf\n",
    "from tensorflow.keras.layers import TextVectorization\n",
    "from tensorflow.keras import Sequential\n",
    "from tensorflow.keras.layers import Dense, Embedding, GlobalAveragePooling1D"
   ]
  },
  {
   "cell_type": "code",
   "execution_count": 3,
   "id": "d6d36150",
   "metadata": {},
   "outputs": [],
   "source": [
    "df = pd.read_csv('noun_chunks_classified.csv')\n",
    "df['type'].value_counts()\n",
    "df_skills     = df[df['type'] != \"not_skill\"]\n",
    "df_not_skills = df[df['type'] == \"not_skill\"].sample(n=len(df[df['type'] == \"hard_skill\"]))\n",
    "df = pd.concat([df_skills, df_not_skills], ignore_index=True)"
   ]
  },
  {
   "cell_type": "code",
   "execution_count": 4,
   "id": "c85ccd9f",
   "metadata": {},
   "outputs": [
    {
     "data": {
      "text/plain": [
       "18"
      ]
     },
     "execution_count": 4,
     "metadata": {},
     "output_type": "execute_result"
    }
   ],
   "source": [
    "test_ratio = 0.4\n",
    "\n",
    "# Extract features and prediction vectors\n",
    "X = df['chunks']\n",
    "y = df['type'].map({'not_skill':0, 'hard_skill':1, 'soft_skill':2})\n",
    "\n",
    "# Split into train, test and validation sets\n",
    "X_train, X_temp, y_train, y_temp = train_test_split(X, y, test_size = test_ratio * 2, random_state = 0)\n",
    "X_val, X_test, y_val, y_test = train_test_split(X_temp, y_temp, test_size = 0.5, random_state = 0)\n",
    "    \n",
    "X_train.shape, X_test.shape, X_val.shape\n",
    "X.str.split().str.len().max()"
   ]
  },
  {
   "cell_type": "code",
   "execution_count": 5,
   "id": "929917db",
   "metadata": {},
   "outputs": [],
   "source": [
    "# Prepare the training dataset\n",
    "train_ds = tf.data.Dataset.from_tensor_slices((X_train, y_train))\n",
    "train_ds = train_ds.shuffle(buffer_size=1024).batch(64)\n",
    "\n",
    "# Prepare the validation dataset\n",
    "val_ds = tf.data.Dataset.from_tensor_slices((X_val, y_val))\n",
    "val_ds = val_ds.batch(64)\n",
    "\n",
    "# Prepare the testing dataset\n",
    "test_ds = tf.data.Dataset.from_tensor_slices((X_test, y_test))\n",
    "test_ds = test_ds.batch(64)"
   ]
  },
  {
   "cell_type": "markdown",
   "id": "fda14fd8",
   "metadata": {},
   "source": [
    "As per tensorflow tutorial: https://www.tensorflow.org/text/guide/word_embeddings#configure_the_dataset_for_performance\n",
    "\n",
    "`.cache()` Keeps data in memory after it's loaded off disk. This will ensure the dataset does not become a bottleneck while training your model. If your dataset is too large to fit into memory, you can also use this method to create a performant on-disk cache, which is more efficient to read than many small files.\n",
    "\n",
    "`.prefetch()` Overlaps data preprocessing and model execution while training."
   ]
  },
  {
   "cell_type": "code",
   "execution_count": 6,
   "id": "03306faa",
   "metadata": {},
   "outputs": [],
   "source": [
    "AUTOTUNE = tf.data.AUTOTUNE\n",
    "\n",
    "train_ds = train_ds.cache().prefetch(buffer_size=AUTOTUNE)\n",
    "val_ds   = val_ds.cache().prefetch(buffer_size=AUTOTUNE)\n",
    "test_ds  = test_ds.cache().prefetch(buffer_size=AUTOTUNE)"
   ]
  },
  {
   "cell_type": "markdown",
   "id": "053b2d94",
   "metadata": {},
   "source": [
    "Let's understand how the tensorflow dataset is constructed:"
   ]
  },
  {
   "cell_type": "code",
   "execution_count": 7,
   "id": "7938206c",
   "metadata": {},
   "outputs": [
    {
     "name": "stdout",
     "output_type": "stream",
     "text": [
      "1 b'ML Ops best practices'\n",
      "0 b'data science experience Experience'\n",
      "0 b'Greece Deutsche Telekom Cloud Services EE'\n",
      "1 b'statistics'\n",
      "1 b'Coach and mentor fellow Data Engineers Required Skills Experience BSc MSc'\n"
     ]
    }
   ],
   "source": [
    "for text_batch, label_batch in train_ds.take(1):\n",
    "    for i in range(5):\n",
    "        print(label_batch[i].numpy(), text_batch.numpy()[i])"
   ]
  },
  {
   "cell_type": "markdown",
   "id": "e12701ef",
   "metadata": {},
   "source": [
    "## Text Preprocessing"
   ]
  },
  {
   "cell_type": "code",
   "execution_count": 8,
   "id": "c2dc5b90",
   "metadata": {},
   "outputs": [],
   "source": [
    "# Custom standardization function to strip remove uneccessary text and symbols.\n",
    "def custom_standardization(input_data):\n",
    "    input_df = tf.strings.lower(input_data)\n",
    "    input_df = tf.strings.regex_replace(input_df, '(e.g.?)|(i.e.?).', '')\n",
    "    input_df = tf.strings.regex_replace(input_df, '[^\\u0020-\\u007E]', '')\n",
    "    input_df = tf.strings.regex_replace(input_df, '\\b[\\w\\.-]+@[\\w\\.-]+\\.\\w{2,6}\\b', '')\n",
    "    input_df = tf.strings.regex_replace(input_df, '(https?:\\/\\/)?([\\da-z\\.-]+)\\.([a-z\\.]{2,6})([\\/\\w \\.-]*)', '')\n",
    "    input_df = tf.strings.regex_replace(input_df, '\\B#([a-z0-9]{1,})', '')\n",
    "    input_df = tf.strings.regex_replace(input_df, '[^\\w\\s+#]', ' ')\n",
    "    \n",
    "    return tf.strings.regex_replace(input_df, '(\\s{2,})|(\\n+)', '')"
   ]
  },
  {
   "cell_type": "code",
   "execution_count": 9,
   "id": "4b3acdd7",
   "metadata": {},
   "outputs": [],
   "source": [
    "# Vocabulary size and number of words in a sequence.\n",
    "vocab_size = 2500\n",
    "sequence_length = 20\n",
    "\n",
    "# Use the text vectorization layer to normalize, split, and map strings to\n",
    "# integers. Note that the layer uses the custom standardization defined above.\n",
    "# Set maximum_sequence length as all samples are not of the same length.\n",
    "vectorize_layer = TextVectorization(\n",
    "    standardize=custom_standardization,\n",
    "    max_tokens=vocab_size,\n",
    "    output_mode='int',\n",
    "    output_sequence_length=sequence_length)\n",
    "\n",
    "vectorize_layer.adapt(X_train)"
   ]
  },
  {
   "cell_type": "code",
   "execution_count": 10,
   "id": "f4c9e5c6",
   "metadata": {},
   "outputs": [
    {
     "name": "stdout",
     "output_type": "stream",
     "text": [
      "Vocabulary size: 449\n",
      "Word number 410 --->  change\n"
     ]
    }
   ],
   "source": [
    "vocabulary = vectorize_layer.get_vocabulary()\n",
    "print('Vocabulary size: {}'.format(len(vocabulary)))\n",
    "\n",
    "num = random.randint(1, len(vocabulary))\n",
    "print(f\"Word number {num} ---> \", vocabulary[num])"
   ]
  },
  {
   "cell_type": "markdown",
   "id": "a5dcc2af",
   "metadata": {},
   "source": [
    "## Word Embeddings\n",
    "\n",
    "Insert description\n",
    "\n",
    "### Model Configuration"
   ]
  },
  {
   "cell_type": "code",
   "execution_count": 11,
   "id": "38208bb7",
   "metadata": {},
   "outputs": [],
   "source": [
    "embedding_dim=16\n",
    "\n",
    "model = tf.keras.Sequential([\n",
    "    tf.keras.Input(shape=(1,), dtype=tf.string),\n",
    "    vectorize_layer,\n",
    "    Embedding(vocab_size, embedding_dim, name=\"embedding\"),\n",
    "    GlobalAveragePooling1D(),\n",
    "    Dense(16, activation='relu'),\n",
    "    Dense(3, activation='softmax')\n",
    "])"
   ]
  },
  {
   "cell_type": "code",
   "execution_count": 12,
   "id": "4e5983df",
   "metadata": {},
   "outputs": [
    {
     "name": "stdout",
     "output_type": "stream",
     "text": [
      "Model: \"sequential\"\n",
      "_________________________________________________________________\n",
      " Layer (type)                Output Shape              Param #   \n",
      "=================================================================\n",
      " text_vectorization (TextVec  (None, 20)               0         \n",
      " torization)                                                     \n",
      "                                                                 \n",
      " embedding (Embedding)       (None, 20, 16)            40000     \n",
      "                                                                 \n",
      " global_average_pooling1d (G  (None, 16)               0         \n",
      " lobalAveragePooling1D)                                          \n",
      "                                                                 \n",
      " dense (Dense)               (None, 16)                272       \n",
      "                                                                 \n",
      " dense_1 (Dense)             (None, 3)                 51        \n",
      "                                                                 \n",
      "=================================================================\n",
      "Total params: 40,323\n",
      "Trainable params: 40,323\n",
      "Non-trainable params: 0\n",
      "_________________________________________________________________\n"
     ]
    }
   ],
   "source": [
    "model.summary()"
   ]
  },
  {
   "cell_type": "code",
   "execution_count": 13,
   "id": "39399e0c",
   "metadata": {},
   "outputs": [],
   "source": [
    "model.compile(optimizer=tf.keras.optimizers.Adam(learning_rate=0.001),\n",
    "              loss=tf.keras.losses.SparseCategoricalCrossentropy(),\n",
    "              metrics=['accuracy'])"
   ]
  },
  {
   "cell_type": "markdown",
   "id": "ec3a930b",
   "metadata": {},
   "source": [
    "### Callbacks"
   ]
  },
  {
   "cell_type": "code",
   "execution_count": 14,
   "id": "3268dd00",
   "metadata": {},
   "outputs": [],
   "source": [
    "tf_callbacks = [\n",
    "    tf.keras.callbacks.TensorBoard(log_dir=\"logs\"),\n",
    "    tf.keras.callbacks.EarlyStopping(monitor='val_loss', patience=5, start_from_epoch=15, verbose=1)\n",
    "]"
   ]
  },
  {
   "cell_type": "markdown",
   "id": "31af2e66",
   "metadata": {},
   "source": [
    "### Training"
   ]
  },
  {
   "cell_type": "code",
   "execution_count": 15,
   "id": "805f3c31",
   "metadata": {},
   "outputs": [
    {
     "name": "stdout",
     "output_type": "stream",
     "text": [
      "Epoch 1/200\n",
      "4/4 [==============================] - 1s 150ms/step - loss: 1.0795 - accuracy: 0.4798 - val_loss: 1.0699 - val_accuracy: 0.4922\n",
      "Epoch 2/200\n",
      "4/4 [==============================] - 0s 40ms/step - loss: 1.0692 - accuracy: 0.4798 - val_loss: 1.0597 - val_accuracy: 0.4922\n",
      "Epoch 3/200\n",
      "4/4 [==============================] - 0s 34ms/step - loss: 1.0597 - accuracy: 0.4798 - val_loss: 1.0496 - val_accuracy: 0.4922\n",
      "Epoch 4/200\n",
      "4/4 [==============================] - 0s 31ms/step - loss: 1.0500 - accuracy: 0.4798 - val_loss: 1.0394 - val_accuracy: 0.4922\n",
      "Epoch 5/200\n",
      "4/4 [==============================] - 0s 32ms/step - loss: 1.0401 - accuracy: 0.4798 - val_loss: 1.0292 - val_accuracy: 0.4922\n",
      "Epoch 6/200\n",
      "4/4 [==============================] - 0s 32ms/step - loss: 1.0304 - accuracy: 0.4798 - val_loss: 1.0192 - val_accuracy: 0.4922\n",
      "Epoch 7/200\n",
      "4/4 [==============================] - 0s 34ms/step - loss: 1.0209 - accuracy: 0.4798 - val_loss: 1.0093 - val_accuracy: 0.4922\n",
      "Epoch 8/200\n",
      "4/4 [==============================] - 0s 33ms/step - loss: 1.0114 - accuracy: 0.4798 - val_loss: 0.9994 - val_accuracy: 0.4922\n",
      "Epoch 9/200\n",
      "4/4 [==============================] - 0s 30ms/step - loss: 1.0019 - accuracy: 0.4798 - val_loss: 0.9898 - val_accuracy: 0.4922\n",
      "Epoch 10/200\n",
      "4/4 [==============================] - 0s 37ms/step - loss: 0.9927 - accuracy: 0.4798 - val_loss: 0.9805 - val_accuracy: 0.4922\n",
      "Epoch 11/200\n",
      "4/4 [==============================] - 0s 32ms/step - loss: 0.9838 - accuracy: 0.4798 - val_loss: 0.9715 - val_accuracy: 0.4922\n",
      "Epoch 12/200\n",
      "4/4 [==============================] - 0s 32ms/step - loss: 0.9752 - accuracy: 0.4798 - val_loss: 0.9629 - val_accuracy: 0.4922\n",
      "Epoch 13/200\n",
      "4/4 [==============================] - 0s 35ms/step - loss: 0.9669 - accuracy: 0.4798 - val_loss: 0.9546 - val_accuracy: 0.4922\n",
      "Epoch 14/200\n",
      "4/4 [==============================] - 0s 31ms/step - loss: 0.9590 - accuracy: 0.4798 - val_loss: 0.9468 - val_accuracy: 0.4922\n",
      "Epoch 15/200\n",
      "4/4 [==============================] - 0s 32ms/step - loss: 0.9515 - accuracy: 0.4798 - val_loss: 0.9395 - val_accuracy: 0.4922\n",
      "Epoch 16/200\n",
      "4/4 [==============================] - 0s 35ms/step - loss: 0.9444 - accuracy: 0.4798 - val_loss: 0.9327 - val_accuracy: 0.4922\n",
      "Epoch 17/200\n",
      "4/4 [==============================] - 0s 32ms/step - loss: 0.9373 - accuracy: 0.4798 - val_loss: 0.9258 - val_accuracy: 0.4922\n",
      "Epoch 18/200\n",
      "4/4 [==============================] - 0s 31ms/step - loss: 0.9302 - accuracy: 0.4798 - val_loss: 0.9194 - val_accuracy: 0.4922\n",
      "Epoch 19/200\n",
      "4/4 [==============================] - 0s 32ms/step - loss: 0.9238 - accuracy: 0.4798 - val_loss: 0.9134 - val_accuracy: 0.4922\n",
      "Epoch 20/200\n",
      "4/4 [==============================] - 0s 48ms/step - loss: 0.9176 - accuracy: 0.4798 - val_loss: 0.9076 - val_accuracy: 0.4922\n",
      "Epoch 21/200\n",
      "4/4 [==============================] - 0s 31ms/step - loss: 0.9116 - accuracy: 0.4798 - val_loss: 0.9022 - val_accuracy: 0.4922\n",
      "Epoch 22/200\n",
      "4/4 [==============================] - 0s 31ms/step - loss: 0.9058 - accuracy: 0.4798 - val_loss: 0.8970 - val_accuracy: 0.4922\n",
      "Epoch 23/200\n",
      "4/4 [==============================] - 0s 32ms/step - loss: 0.9002 - accuracy: 0.4798 - val_loss: 0.8921 - val_accuracy: 0.4922\n",
      "Epoch 24/200\n",
      "4/4 [==============================] - 0s 34ms/step - loss: 0.8947 - accuracy: 0.4798 - val_loss: 0.8875 - val_accuracy: 0.4922\n",
      "Epoch 25/200\n",
      "4/4 [==============================] - 0s 31ms/step - loss: 0.8894 - accuracy: 0.4843 - val_loss: 0.8831 - val_accuracy: 0.4922\n",
      "Epoch 26/200\n",
      "4/4 [==============================] - 0s 36ms/step - loss: 0.8842 - accuracy: 0.4843 - val_loss: 0.8787 - val_accuracy: 0.4922\n",
      "Epoch 27/200\n",
      "4/4 [==============================] - 0s 35ms/step - loss: 0.8785 - accuracy: 0.4933 - val_loss: 0.8746 - val_accuracy: 0.4922\n",
      "Epoch 28/200\n",
      "4/4 [==============================] - 0s 39ms/step - loss: 0.8733 - accuracy: 0.4978 - val_loss: 0.8707 - val_accuracy: 0.4944\n",
      "Epoch 29/200\n",
      "4/4 [==============================] - 0s 34ms/step - loss: 0.8682 - accuracy: 0.5022 - val_loss: 0.8670 - val_accuracy: 0.4944\n",
      "Epoch 30/200\n",
      "4/4 [==============================] - 0s 37ms/step - loss: 0.8631 - accuracy: 0.5112 - val_loss: 0.8635 - val_accuracy: 0.4989\n",
      "Epoch 31/200\n",
      "4/4 [==============================] - 0s 31ms/step - loss: 0.8581 - accuracy: 0.5291 - val_loss: 0.8601 - val_accuracy: 0.5056\n",
      "Epoch 32/200\n",
      "4/4 [==============================] - 0s 37ms/step - loss: 0.8531 - accuracy: 0.5381 - val_loss: 0.8569 - val_accuracy: 0.5168\n",
      "Epoch 33/200\n",
      "4/4 [==============================] - 0s 31ms/step - loss: 0.8480 - accuracy: 0.5516 - val_loss: 0.8539 - val_accuracy: 0.5257\n",
      "Epoch 34/200\n",
      "4/4 [==============================] - 0s 35ms/step - loss: 0.8429 - accuracy: 0.5830 - val_loss: 0.8509 - val_accuracy: 0.5324\n",
      "Epoch 35/200\n",
      "4/4 [==============================] - 0s 32ms/step - loss: 0.8377 - accuracy: 0.5964 - val_loss: 0.8480 - val_accuracy: 0.5414\n",
      "Epoch 36/200\n",
      "4/4 [==============================] - 0s 42ms/step - loss: 0.8324 - accuracy: 0.6054 - val_loss: 0.8452 - val_accuracy: 0.5526\n",
      "Epoch 37/200\n",
      "4/4 [==============================] - 0s 37ms/step - loss: 0.8270 - accuracy: 0.6278 - val_loss: 0.8425 - val_accuracy: 0.5660\n",
      "Epoch 38/200\n",
      "4/4 [==============================] - 0s 34ms/step - loss: 0.8214 - accuracy: 0.6457 - val_loss: 0.8397 - val_accuracy: 0.5705\n",
      "Epoch 39/200\n",
      "4/4 [==============================] - 0s 35ms/step - loss: 0.8156 - accuracy: 0.6637 - val_loss: 0.8370 - val_accuracy: 0.5861\n",
      "Epoch 40/200\n",
      "4/4 [==============================] - 0s 37ms/step - loss: 0.8096 - accuracy: 0.6816 - val_loss: 0.8342 - val_accuracy: 0.5951\n",
      "Epoch 41/200\n",
      "4/4 [==============================] - 0s 43ms/step - loss: 0.8034 - accuracy: 0.6951 - val_loss: 0.8314 - val_accuracy: 0.6040\n",
      "Epoch 42/200\n",
      "4/4 [==============================] - 0s 37ms/step - loss: 0.7970 - accuracy: 0.7309 - val_loss: 0.8286 - val_accuracy: 0.6107\n",
      "Epoch 43/200\n",
      "4/4 [==============================] - 0s 32ms/step - loss: 0.7904 - accuracy: 0.7444 - val_loss: 0.8257 - val_accuracy: 0.6174\n",
      "Epoch 44/200\n",
      "4/4 [==============================] - 0s 35ms/step - loss: 0.7834 - accuracy: 0.7489 - val_loss: 0.8226 - val_accuracy: 0.6219\n",
      "Epoch 45/200\n",
      "4/4 [==============================] - 0s 35ms/step - loss: 0.7759 - accuracy: 0.7578 - val_loss: 0.8195 - val_accuracy: 0.6219\n",
      "Epoch 46/200\n",
      "4/4 [==============================] - 0s 34ms/step - loss: 0.7682 - accuracy: 0.7623 - val_loss: 0.8164 - val_accuracy: 0.6331\n",
      "Epoch 47/200\n",
      "4/4 [==============================] - 0s 37ms/step - loss: 0.7603 - accuracy: 0.7668 - val_loss: 0.8132 - val_accuracy: 0.6421\n",
      "Epoch 48/200\n",
      "4/4 [==============================] - 0s 40ms/step - loss: 0.7523 - accuracy: 0.7758 - val_loss: 0.8098 - val_accuracy: 0.6600\n",
      "Epoch 49/200\n",
      "4/4 [==============================] - 0s 40ms/step - loss: 0.7441 - accuracy: 0.7892 - val_loss: 0.8064 - val_accuracy: 0.6644\n",
      "Epoch 50/200\n",
      "4/4 [==============================] - 0s 37ms/step - loss: 0.7357 - accuracy: 0.8072 - val_loss: 0.8028 - val_accuracy: 0.6711\n",
      "Epoch 51/200\n",
      "4/4 [==============================] - 0s 35ms/step - loss: 0.7270 - accuracy: 0.8072 - val_loss: 0.7992 - val_accuracy: 0.6756\n",
      "Epoch 52/200\n",
      "4/4 [==============================] - 0s 37ms/step - loss: 0.7181 - accuracy: 0.8161 - val_loss: 0.7955 - val_accuracy: 0.6823\n",
      "Epoch 53/200\n",
      "4/4 [==============================] - 0s 32ms/step - loss: 0.7091 - accuracy: 0.8206 - val_loss: 0.7917 - val_accuracy: 0.6868\n",
      "Epoch 54/200\n",
      "4/4 [==============================] - 0s 39ms/step - loss: 0.6998 - accuracy: 0.8296 - val_loss: 0.7879 - val_accuracy: 0.6957\n",
      "Epoch 55/200\n",
      "4/4 [==============================] - 0s 49ms/step - loss: 0.6904 - accuracy: 0.8341 - val_loss: 0.7840 - val_accuracy: 0.7025\n",
      "Epoch 56/200\n",
      "4/4 [==============================] - 0s 35ms/step - loss: 0.6808 - accuracy: 0.8341 - val_loss: 0.7801 - val_accuracy: 0.7114\n",
      "Epoch 57/200\n",
      "4/4 [==============================] - 0s 38ms/step - loss: 0.6711 - accuracy: 0.8341 - val_loss: 0.7761 - val_accuracy: 0.7136\n",
      "Epoch 58/200\n",
      "4/4 [==============================] - 0s 66ms/step - loss: 0.6612 - accuracy: 0.8475 - val_loss: 0.7720 - val_accuracy: 0.7159\n",
      "Epoch 59/200\n"
     ]
    },
    {
     "name": "stdout",
     "output_type": "stream",
     "text": [
      "4/4 [==============================] - 0s 35ms/step - loss: 0.6512 - accuracy: 0.8565 - val_loss: 0.7680 - val_accuracy: 0.7159\n",
      "Epoch 60/200\n",
      "4/4 [==============================] - 0s 38ms/step - loss: 0.6411 - accuracy: 0.8610 - val_loss: 0.7638 - val_accuracy: 0.7226\n",
      "Epoch 61/200\n",
      "4/4 [==============================] - 0s 37ms/step - loss: 0.6310 - accuracy: 0.8610 - val_loss: 0.7597 - val_accuracy: 0.7271\n",
      "Epoch 62/200\n",
      "4/4 [==============================] - 0s 52ms/step - loss: 0.6207 - accuracy: 0.8610 - val_loss: 0.7556 - val_accuracy: 0.7315\n",
      "Epoch 63/200\n",
      "4/4 [==============================] - 0s 34ms/step - loss: 0.6104 - accuracy: 0.8610 - val_loss: 0.7514 - val_accuracy: 0.7315\n",
      "Epoch 64/200\n",
      "4/4 [==============================] - 0s 32ms/step - loss: 0.6001 - accuracy: 0.8700 - val_loss: 0.7473 - val_accuracy: 0.7293\n",
      "Epoch 65/200\n",
      "4/4 [==============================] - 0s 31ms/step - loss: 0.5898 - accuracy: 0.8700 - val_loss: 0.7432 - val_accuracy: 0.7315\n",
      "Epoch 66/200\n",
      "4/4 [==============================] - 0s 32ms/step - loss: 0.5795 - accuracy: 0.8700 - val_loss: 0.7391 - val_accuracy: 0.7271\n",
      "Epoch 67/200\n",
      "4/4 [==============================] - 0s 29ms/step - loss: 0.5691 - accuracy: 0.8700 - val_loss: 0.7349 - val_accuracy: 0.7315\n",
      "Epoch 68/200\n",
      "4/4 [==============================] - 0s 30ms/step - loss: 0.5585 - accuracy: 0.8700 - val_loss: 0.7307 - val_accuracy: 0.7315\n",
      "Epoch 69/200\n",
      "4/4 [==============================] - 0s 29ms/step - loss: 0.5471 - accuracy: 0.8789 - val_loss: 0.7262 - val_accuracy: 0.7360\n",
      "Epoch 70/200\n",
      "4/4 [==============================] - 0s 29ms/step - loss: 0.5356 - accuracy: 0.8789 - val_loss: 0.7226 - val_accuracy: 0.7494\n",
      "Epoch 71/200\n",
      "4/4 [==============================] - 0s 29ms/step - loss: 0.5254 - accuracy: 0.8834 - val_loss: 0.7187 - val_accuracy: 0.7562\n",
      "Epoch 72/200\n",
      "4/4 [==============================] - 0s 29ms/step - loss: 0.5153 - accuracy: 0.8834 - val_loss: 0.7147 - val_accuracy: 0.7539\n",
      "Epoch 73/200\n",
      "4/4 [==============================] - 0s 29ms/step - loss: 0.5052 - accuracy: 0.8879 - val_loss: 0.7107 - val_accuracy: 0.7539\n",
      "Epoch 74/200\n",
      "4/4 [==============================] - 0s 30ms/step - loss: 0.4953 - accuracy: 0.8924 - val_loss: 0.7069 - val_accuracy: 0.7562\n",
      "Epoch 75/200\n",
      "4/4 [==============================] - 0s 29ms/step - loss: 0.4856 - accuracy: 0.9013 - val_loss: 0.7034 - val_accuracy: 0.7562\n",
      "Epoch 76/200\n",
      "4/4 [==============================] - 0s 29ms/step - loss: 0.4761 - accuracy: 0.8969 - val_loss: 0.7000 - val_accuracy: 0.7562\n",
      "Epoch 77/200\n",
      "4/4 [==============================] - 0s 29ms/step - loss: 0.4669 - accuracy: 0.8969 - val_loss: 0.6967 - val_accuracy: 0.7584\n",
      "Epoch 78/200\n",
      "4/4 [==============================] - 0s 29ms/step - loss: 0.4579 - accuracy: 0.9013 - val_loss: 0.6935 - val_accuracy: 0.7606\n",
      "Epoch 79/200\n",
      "4/4 [==============================] - 0s 31ms/step - loss: 0.4490 - accuracy: 0.9013 - val_loss: 0.6905 - val_accuracy: 0.7584\n",
      "Epoch 80/200\n",
      "4/4 [==============================] - 0s 32ms/step - loss: 0.4403 - accuracy: 0.9013 - val_loss: 0.6875 - val_accuracy: 0.7584\n",
      "Epoch 81/200\n",
      "4/4 [==============================] - 0s 29ms/step - loss: 0.4317 - accuracy: 0.9013 - val_loss: 0.6847 - val_accuracy: 0.7562\n",
      "Epoch 82/200\n",
      "4/4 [==============================] - 0s 29ms/step - loss: 0.4234 - accuracy: 0.9013 - val_loss: 0.6820 - val_accuracy: 0.7584\n",
      "Epoch 83/200\n",
      "4/4 [==============================] - 0s 32ms/step - loss: 0.4153 - accuracy: 0.9058 - val_loss: 0.6795 - val_accuracy: 0.7562\n",
      "Epoch 84/200\n",
      "4/4 [==============================] - 0s 43ms/step - loss: 0.4073 - accuracy: 0.9058 - val_loss: 0.6771 - val_accuracy: 0.7584\n",
      "Epoch 85/200\n",
      "4/4 [==============================] - 0s 30ms/step - loss: 0.3996 - accuracy: 0.9058 - val_loss: 0.6749 - val_accuracy: 0.7606\n",
      "Epoch 86/200\n",
      "4/4 [==============================] - 0s 31ms/step - loss: 0.3920 - accuracy: 0.9058 - val_loss: 0.6727 - val_accuracy: 0.7606\n",
      "Epoch 87/200\n",
      "4/4 [==============================] - 0s 29ms/step - loss: 0.3846 - accuracy: 0.9058 - val_loss: 0.6706 - val_accuracy: 0.7584\n",
      "Epoch 88/200\n",
      "4/4 [==============================] - 0s 29ms/step - loss: 0.3774 - accuracy: 0.9058 - val_loss: 0.6687 - val_accuracy: 0.7562\n",
      "Epoch 89/200\n",
      "4/4 [==============================] - 0s 31ms/step - loss: 0.3703 - accuracy: 0.9058 - val_loss: 0.6668 - val_accuracy: 0.7562\n",
      "Epoch 90/200\n",
      "4/4 [==============================] - 0s 44ms/step - loss: 0.3634 - accuracy: 0.9058 - val_loss: 0.6650 - val_accuracy: 0.7584\n",
      "Epoch 91/200\n",
      "4/4 [==============================] - 0s 29ms/step - loss: 0.3567 - accuracy: 0.9148 - val_loss: 0.6633 - val_accuracy: 0.7584\n",
      "Epoch 92/200\n",
      "4/4 [==============================] - 0s 29ms/step - loss: 0.3501 - accuracy: 0.9148 - val_loss: 0.6618 - val_accuracy: 0.7606\n",
      "Epoch 93/200\n",
      "4/4 [==============================] - 0s 30ms/step - loss: 0.3437 - accuracy: 0.9148 - val_loss: 0.6603 - val_accuracy: 0.7606\n",
      "Epoch 94/200\n",
      "4/4 [==============================] - 0s 29ms/step - loss: 0.3374 - accuracy: 0.9193 - val_loss: 0.6590 - val_accuracy: 0.7562\n",
      "Epoch 95/200\n",
      "4/4 [==============================] - 0s 29ms/step - loss: 0.3313 - accuracy: 0.9193 - val_loss: 0.6577 - val_accuracy: 0.7562\n",
      "Epoch 96/200\n",
      "4/4 [==============================] - 0s 36ms/step - loss: 0.3252 - accuracy: 0.9193 - val_loss: 0.6565 - val_accuracy: 0.7584\n",
      "Epoch 97/200\n",
      "4/4 [==============================] - 0s 30ms/step - loss: 0.3193 - accuracy: 0.9193 - val_loss: 0.6554 - val_accuracy: 0.7584\n",
      "Epoch 98/200\n",
      "4/4 [==============================] - 0s 31ms/step - loss: 0.3135 - accuracy: 0.9193 - val_loss: 0.6544 - val_accuracy: 0.7606\n",
      "Epoch 99/200\n",
      "4/4 [==============================] - 0s 30ms/step - loss: 0.3078 - accuracy: 0.9193 - val_loss: 0.6534 - val_accuracy: 0.7606\n",
      "Epoch 100/200\n",
      "4/4 [==============================] - 0s 29ms/step - loss: 0.3022 - accuracy: 0.9193 - val_loss: 0.6524 - val_accuracy: 0.7606\n",
      "Epoch 101/200\n",
      "4/4 [==============================] - 0s 29ms/step - loss: 0.2967 - accuracy: 0.9193 - val_loss: 0.6515 - val_accuracy: 0.7606\n",
      "Epoch 102/200\n",
      "4/4 [==============================] - 0s 36ms/step - loss: 0.2913 - accuracy: 0.9193 - val_loss: 0.6507 - val_accuracy: 0.7584\n",
      "Epoch 103/200\n",
      "4/4 [==============================] - 0s 32ms/step - loss: 0.2860 - accuracy: 0.9193 - val_loss: 0.6499 - val_accuracy: 0.7562\n",
      "Epoch 104/200\n",
      "4/4 [==============================] - 0s 32ms/step - loss: 0.2807 - accuracy: 0.9193 - val_loss: 0.6492 - val_accuracy: 0.7584\n",
      "Epoch 105/200\n",
      "4/4 [==============================] - 0s 43ms/step - loss: 0.2756 - accuracy: 0.9193 - val_loss: 0.6484 - val_accuracy: 0.7584\n",
      "Epoch 106/200\n",
      "4/4 [==============================] - 0s 31ms/step - loss: 0.2706 - accuracy: 0.9193 - val_loss: 0.6477 - val_accuracy: 0.7584\n",
      "Epoch 107/200\n",
      "4/4 [==============================] - 0s 29ms/step - loss: 0.2656 - accuracy: 0.9238 - val_loss: 0.6470 - val_accuracy: 0.7562\n",
      "Epoch 108/200\n",
      "4/4 [==============================] - 0s 31ms/step - loss: 0.2607 - accuracy: 0.9238 - val_loss: 0.6465 - val_accuracy: 0.7584\n",
      "Epoch 109/200\n",
      "4/4 [==============================] - 0s 29ms/step - loss: 0.2559 - accuracy: 0.9283 - val_loss: 0.6460 - val_accuracy: 0.7584\n",
      "Epoch 110/200\n",
      "4/4 [==============================] - 0s 29ms/step - loss: 0.2512 - accuracy: 0.9283 - val_loss: 0.6457 - val_accuracy: 0.7606\n",
      "Epoch 111/200\n",
      "4/4 [==============================] - 0s 31ms/step - loss: 0.2466 - accuracy: 0.9283 - val_loss: 0.6453 - val_accuracy: 0.7606\n",
      "Epoch 112/200\n",
      "4/4 [==============================] - 0s 45ms/step - loss: 0.2420 - accuracy: 0.9283 - val_loss: 0.6450 - val_accuracy: 0.7562\n",
      "Epoch 113/200\n",
      "4/4 [==============================] - 0s 32ms/step - loss: 0.2375 - accuracy: 0.9327 - val_loss: 0.6447 - val_accuracy: 0.7562\n",
      "Epoch 114/200\n",
      "4/4 [==============================] - 0s 29ms/step - loss: 0.2331 - accuracy: 0.9327 - val_loss: 0.6443 - val_accuracy: 0.7584\n",
      "Epoch 115/200\n",
      "4/4 [==============================] - 0s 29ms/step - loss: 0.2288 - accuracy: 0.9372 - val_loss: 0.6440 - val_accuracy: 0.7584\n",
      "Epoch 116/200\n",
      "4/4 [==============================] - 0s 29ms/step - loss: 0.2245 - accuracy: 0.9372 - val_loss: 0.6437 - val_accuracy: 0.7584\n",
      "Epoch 117/200\n"
     ]
    },
    {
     "name": "stdout",
     "output_type": "stream",
     "text": [
      "4/4 [==============================] - 0s 29ms/step - loss: 0.2203 - accuracy: 0.9372 - val_loss: 0.6435 - val_accuracy: 0.7584\n",
      "Epoch 118/200\n",
      "4/4 [==============================] - 0s 29ms/step - loss: 0.2161 - accuracy: 0.9417 - val_loss: 0.6433 - val_accuracy: 0.7584\n",
      "Epoch 119/200\n",
      "4/4 [==============================] - 0s 32ms/step - loss: 0.2121 - accuracy: 0.9417 - val_loss: 0.6431 - val_accuracy: 0.7584\n",
      "Epoch 120/200\n",
      "4/4 [==============================] - 0s 29ms/step - loss: 0.2081 - accuracy: 0.9417 - val_loss: 0.6430 - val_accuracy: 0.7584\n",
      "Epoch 121/200\n",
      "4/4 [==============================] - 0s 32ms/step - loss: 0.2042 - accuracy: 0.9462 - val_loss: 0.6428 - val_accuracy: 0.7584\n",
      "Epoch 122/200\n",
      "4/4 [==============================] - 0s 46ms/step - loss: 0.2004 - accuracy: 0.9462 - val_loss: 0.6427 - val_accuracy: 0.7539\n",
      "Epoch 123/200\n",
      "4/4 [==============================] - 0s 40ms/step - loss: 0.1966 - accuracy: 0.9462 - val_loss: 0.6425 - val_accuracy: 0.7562\n",
      "Epoch 124/200\n",
      "4/4 [==============================] - 0s 29ms/step - loss: 0.1929 - accuracy: 0.9462 - val_loss: 0.6424 - val_accuracy: 0.7562\n",
      "Epoch 125/200\n",
      "4/4 [==============================] - 0s 29ms/step - loss: 0.1893 - accuracy: 0.9462 - val_loss: 0.6422 - val_accuracy: 0.7562\n",
      "Epoch 126/200\n",
      "4/4 [==============================] - 0s 29ms/step - loss: 0.1858 - accuracy: 0.9507 - val_loss: 0.6420 - val_accuracy: 0.7584\n",
      "Epoch 127/200\n",
      "4/4 [==============================] - 0s 43ms/step - loss: 0.1823 - accuracy: 0.9552 - val_loss: 0.6418 - val_accuracy: 0.7606\n",
      "Epoch 128/200\n",
      "4/4 [==============================] - 0s 29ms/step - loss: 0.1788 - accuracy: 0.9552 - val_loss: 0.6417 - val_accuracy: 0.7606\n",
      "Epoch 129/200\n",
      "4/4 [==============================] - 0s 30ms/step - loss: 0.1754 - accuracy: 0.9552 - val_loss: 0.6418 - val_accuracy: 0.7606\n",
      "Epoch 130/200\n",
      "4/4 [==============================] - 0s 29ms/step - loss: 0.1721 - accuracy: 0.9552 - val_loss: 0.6418 - val_accuracy: 0.7606\n",
      "Epoch 131/200\n",
      "4/4 [==============================] - 0s 29ms/step - loss: 0.1689 - accuracy: 0.9596 - val_loss: 0.6419 - val_accuracy: 0.7606\n",
      "Epoch 132/200\n",
      "4/4 [==============================] - 0s 29ms/step - loss: 0.1657 - accuracy: 0.9596 - val_loss: 0.6420 - val_accuracy: 0.7606\n",
      "Epoch 133/200\n",
      "4/4 [==============================] - 0s 29ms/step - loss: 0.1626 - accuracy: 0.9596 - val_loss: 0.6420 - val_accuracy: 0.7584\n",
      "Epoch 133: early stopping\n"
     ]
    }
   ],
   "source": [
    "NUM_EPOCHS = 200\n",
    "\n",
    "history = model.fit(train_ds, validation_data=val_ds, epochs=NUM_EPOCHS, callbacks=tf_callbacks)"
   ]
  },
  {
   "cell_type": "code",
   "execution_count": 16,
   "id": "96e7f4e5",
   "metadata": {},
   "outputs": [
    {
     "name": "stdout",
     "output_type": "stream",
     "text": [
      "7/7 [==============================] - 0s 2ms/step - loss: 0.6349 - accuracy: 0.7589\n",
      "Loss: 0.634922981262207, Accuracy: 0.7589285969734192\n"
     ]
    }
   ],
   "source": [
    "loss, accuracy = model.evaluate(test_ds)\n",
    "print(f'Loss: {loss}, Accuracy: {accuracy}')"
   ]
  },
  {
   "cell_type": "markdown",
   "id": "f00c0988",
   "metadata": {},
   "source": [
    "We see at this point that our naive model achieves an accuracy of 0.75 and a loss of 0.64. This model behaves kind of poor."
   ]
  },
  {
   "cell_type": "code",
   "execution_count": 17,
   "id": "81ed72fb",
   "metadata": {},
   "outputs": [
    {
     "data": {
      "text/plain": [
       "dict_keys(['loss', 'accuracy', 'val_loss', 'val_accuracy'])"
      ]
     },
     "execution_count": 17,
     "metadata": {},
     "output_type": "execute_result"
    }
   ],
   "source": [
    "history_dict = history.history\n",
    "history_dict.keys()"
   ]
  },
  {
   "cell_type": "code",
   "execution_count": 18,
   "id": "1dcb8cc4",
   "metadata": {},
   "outputs": [
    {
     "data": {
      "image/png": "[encoded data removed]",
      "text/plain": [
       "<Figure size 1000x400 with 2 Axes>"
      ]
     },
     "metadata": {},
     "output_type": "display_data"
    }
   ],
   "source": [
    "acc      = history_dict['accuracy']\n",
    "val_acc  = history_dict['val_accuracy']\n",
    "loss     = history_dict['loss']\n",
    "val_loss = history_dict['val_loss']\n",
    "\n",
    "epochs = range(1, len(acc) + 1)\n",
    "\n",
    "fig, axes = plt.subplots(1, 2, figsize=(10, 4))\n",
    "plt.subplots_adjust(wspace=0.3)\n",
    "\n",
    "axes[0].plot(epochs, acc, 'b', label='Training acc')\n",
    "axes[0].plot(epochs, val_acc, 'r', label='Validation acc')\n",
    "\n",
    "axes[0].set_title('Training and validation accuracy')\n",
    "axes[0].set_xlabel('Epochs')\n",
    "axes[0].set_ylabel('Accuracy')\n",
    "axes[0].legend(loc='lower right')\n",
    "\n",
    "axes[1].plot(epochs, loss, 'b', label='Training loss')\n",
    "axes[1].plot(epochs, val_loss, 'r', label='Validation loss')\n",
    "\n",
    "axes[1].set_title('Training and validation loss')\n",
    "axes[1].set_xlabel('Epochs')\n",
    "axes[1].set_ylabel('Loss')\n",
    "axes[1].legend()\n",
    "\n",
    "plt.show()"
   ]
  },
  {
   "cell_type": "code",
   "execution_count": null,
   "id": "e26a46ca",
   "metadata": {},
   "outputs": [],
   "source": []
  }
 ],
 "metadata": {
  "kernelspec": {
   "display_name": "Python 3 (ipykernel)",
   "language": "python",
   "name": "python3"
  },
  "language_info": {
   "codemirror_mode": {
    "name": "ipython",
    "version": 3
   },
   "file_extension": ".py",
   "mimetype": "text/x-python",
   "name": "python",
   "nbconvert_exporter": "python",
   "pygments_lexer": "ipython3",
   "version": "3.10.8"
  }
 },
 "nbformat": 4,
 "nbformat_minor": 5
}
