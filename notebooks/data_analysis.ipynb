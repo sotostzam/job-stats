{
 "cells": [
  {
   "cell_type": "markdown",
   "id": "2b035873",
   "metadata": {},
   "source": [
    "# Data Analysis\n",
    "\n",
    "In this notebook I am performing data analysis on the scraped data.\n",
    "\n",
    "### Table of contents\n",
    "\n",
    "1. [Libraries and dataset](#Libraries-and-dataset)\n",
    "\n",
    "2. [Initial Data Exploration](#Initial-Data-Exploration)\n",
    "  1. [Plotting the categorical data](#Plotting-the-categorical-data)\n",
    "  2. [Plotting word frequencies](#Plotting-word-frequencies)\n",
    "  \n",
    "3. [Data Preprocessing](#Data-Preprocessing)\n",
    "  1. [Convert all text to lower case](#Convert-all-text-to-lower-case)\n",
    "  2. [Remove special characters, unnecessary punctuation and digits](#Remove-special-characters,-unnecessary-punctuation-and-digits)\n",
    "  3. [Tokenize and remove stop words](#Tokenize-and-remove-stop-words)\n",
    "  4. [Lemmatize the description words](#Lemmatize-the-description-words)\n",
    "  \n",
    "4. [Exploratory Data Analysis](#Exploratory-Data-Analysis)\n",
    "  1. [Wordcloud visualizations](#Wordcloud-visualizations)\n",
    "  2. [Visualizing n-gram distributions](#Visualizing-n-gram-distributions)\n",
    "  \n",
    "5. [Feature Engineering](#Feature-Engineering)"
   ]
  },
  {
   "cell_type": "markdown",
   "id": "5a35f82a",
   "metadata": {},
   "source": [
    "## Libraries and dataset"
   ]
  },
  {
   "cell_type": "code",
   "execution_count": 1,
   "id": "db4d6a52",
   "metadata": {},
   "outputs": [],
   "source": [
    "import sys\n",
    "sys.path.append(\"..\")"
   ]
  },
  {
   "cell_type": "code",
   "execution_count": 2,
   "id": "127c23c8",
   "metadata": {},
   "outputs": [],
   "source": [
    "import pandas as pd                # Data processing\n",
    "import matplotlib.pyplot as plt    # Data visualization purposes\n",
    "import seaborn as sns              # Statistical data visualization\n",
    "%matplotlib inline\n",
    "sns.set_theme()"
   ]
  },
  {
   "cell_type": "markdown",
   "id": "a7d7eafc",
   "metadata": {},
   "source": [
    "Let's load our database."
   ]
  },
  {
   "cell_type": "code",
   "execution_count": 3,
   "id": "b53b69e5",
   "metadata": {},
   "outputs": [],
   "source": [
    "from modeling.database import MongoDB\n",
    "db = MongoDB()"
   ]
  },
  {
   "cell_type": "markdown",
   "id": "ed714b8f",
   "metadata": {},
   "source": [
    "## Initial Data Exploration\n",
    "\n",
    "Firstly, let's retrieve all documents. Then delete the id and url columns as well as\n",
    "modify the roles column to only show the first role available instead of a list."
   ]
  },
  {
   "cell_type": "code",
   "execution_count": 4,
   "id": "04579308",
   "metadata": {},
   "outputs": [
    {
     "name": "stdout",
     "output_type": "stream",
     "text": [
      "<class 'pandas.core.frame.DataFrame'>\n",
      "RangeIndex: 35 entries, 0 to 34\n",
      "Data columns (total 12 columns):\n",
      " #   Column         Non-Null Count  Dtype         \n",
      "---  ------         --------------  -----         \n",
      " 0   title          35 non-null     object        \n",
      " 1   roles          35 non-null     object        \n",
      " 2   company        35 non-null     object        \n",
      " 3   location       35 non-null     object        \n",
      " 4   type           35 non-null     object        \n",
      " 5   company_size   35 non-null     object        \n",
      " 6   industry       34 non-null     object        \n",
      " 7   workplace      29 non-null     object        \n",
      " 8   published      35 non-null     object        \n",
      " 9   description    35 non-null     object        \n",
      " 10  date_inserted  35 non-null     datetime64[ns]\n",
      " 11  level          16 non-null     object        \n",
      "dtypes: datetime64[ns](1), object(11)\n",
      "memory usage: 3.4+ KB\n"
     ]
    }
   ],
   "source": [
    "documents = db.get_all_documents()\n",
    "df = pd.DataFrame(list(documents))\n",
    "\n",
    "df = df.drop(df.columns[range(0,3)], axis=1)\n",
    "df['roles'] = df['roles'].apply(lambda x: x[0] if isinstance(x, list) else x)\n",
    "\n",
    "df.info()"
   ]
  },
  {
   "cell_type": "markdown",
   "id": "a7120656",
   "metadata": {},
   "source": [
    "Let's check if our data contains null or NaN values."
   ]
  },
  {
   "cell_type": "code",
   "execution_count": 5,
   "id": "9798b799",
   "metadata": {},
   "outputs": [
    {
     "data": {
      "text/html": [
       "<div>\n",
       "<style scoped>\n",
       "    .dataframe tbody tr th:only-of-type {\n",
       "        vertical-align: middle;\n",
       "    }\n",
       "\n",
       "    .dataframe tbody tr th {\n",
       "        vertical-align: top;\n",
       "    }\n",
       "\n",
       "    .dataframe thead th {\n",
       "        text-align: right;\n",
       "    }\n",
       "</style>\n",
       "<table border=\"1\" class=\"dataframe\">\n",
       "  <thead>\n",
       "    <tr style=\"text-align: right;\">\n",
       "      <th></th>\n",
       "      <th>title</th>\n",
       "      <th>roles</th>\n",
       "      <th>company</th>\n",
       "      <th>location</th>\n",
       "      <th>type</th>\n",
       "      <th>company_size</th>\n",
       "      <th>industry</th>\n",
       "      <th>workplace</th>\n",
       "      <th>published</th>\n",
       "      <th>description</th>\n",
       "      <th>date_inserted</th>\n",
       "      <th>level</th>\n",
       "    </tr>\n",
       "  </thead>\n",
       "  <tbody>\n",
       "    <tr>\n",
       "      <th>0</th>\n",
       "      <td>Data Scientist/ AI Developer</td>\n",
       "      <td>Data Scientist</td>\n",
       "      <td>Incelligent</td>\n",
       "      <td>Nea Smyrni, Attiki, Greece</td>\n",
       "      <td>Full-time</td>\n",
       "      <td>11-50</td>\n",
       "      <td>Telecommunications</td>\n",
       "      <td>On-site</td>\n",
       "      <td>2 weeks ago</td>\n",
       "      <td>We are looking for a bright Machine Learning E...</td>\n",
       "      <td>2022-11-27 13:31:33.086</td>\n",
       "      <td>NaN</td>\n",
       "    </tr>\n",
       "    <tr>\n",
       "      <th>1</th>\n",
       "      <td>Machine Learning Engineer</td>\n",
       "      <td>ML Engineer</td>\n",
       "      <td>Gaspardesk</td>\n",
       "      <td>Athens, Attiki, Greece</td>\n",
       "      <td>Full-time</td>\n",
       "      <td>11-50</td>\n",
       "      <td>Software Development</td>\n",
       "      <td>On-site</td>\n",
       "      <td>1 month ago</td>\n",
       "      <td>We are looking for a Machine Learning (ML) Eng...</td>\n",
       "      <td>2022-11-27 13:31:37.809</td>\n",
       "      <td>NaN</td>\n",
       "    </tr>\n",
       "    <tr>\n",
       "      <th>2</th>\n",
       "      <td>Data Scientist</td>\n",
       "      <td>Data Scientist</td>\n",
       "      <td>Intracom Telecom</td>\n",
       "      <td>Paiania, Attiki, Greece</td>\n",
       "      <td>Full-time</td>\n",
       "      <td>1,001-5,000</td>\n",
       "      <td>Telecommunications</td>\n",
       "      <td>On-site</td>\n",
       "      <td>1 month ago</td>\n",
       "      <td>INTRACOM TELECOM is a global telecommunication...</td>\n",
       "      <td>2022-11-27 13:31:42.351</td>\n",
       "      <td>NaN</td>\n",
       "    </tr>\n",
       "    <tr>\n",
       "      <th>3</th>\n",
       "      <td>Data Scientist</td>\n",
       "      <td>Data Scientist</td>\n",
       "      <td>efood</td>\n",
       "      <td>Athens, Attiki, Greece</td>\n",
       "      <td>Entry level</td>\n",
       "      <td>1,001-5,000</td>\n",
       "      <td>Technology, Information and Internet</td>\n",
       "      <td>NaN</td>\n",
       "      <td>3 days ago</td>\n",
       "      <td>We are in the unique position to experience ne...</td>\n",
       "      <td>2022-11-27 13:31:47.247</td>\n",
       "      <td>NaN</td>\n",
       "    </tr>\n",
       "    <tr>\n",
       "      <th>4</th>\n",
       "      <td>Lead Data Scientist</td>\n",
       "      <td>Data Scientist</td>\n",
       "      <td>MarineTraffic</td>\n",
       "      <td>Athens, Attiki, Greece</td>\n",
       "      <td>Full-time</td>\n",
       "      <td>51-200</td>\n",
       "      <td>IT Services and IT Consulting</td>\n",
       "      <td>Remote</td>\n",
       "      <td>2 weeks ago</td>\n",
       "      <td>We are a growing group of 190+ talented people...</td>\n",
       "      <td>2022-11-27 13:31:51.619</td>\n",
       "      <td>NaN</td>\n",
       "    </tr>\n",
       "  </tbody>\n",
       "</table>\n",
       "</div>"
      ],
      "text/plain": [
       "                          title           roles           company  \\\n",
       "0  Data Scientist/ AI Developer  Data Scientist       Incelligent   \n",
       "1     Machine Learning Engineer     ML Engineer        Gaspardesk   \n",
       "2                Data Scientist  Data Scientist  Intracom Telecom   \n",
       "3                Data Scientist  Data Scientist             efood   \n",
       "4           Lead Data Scientist  Data Scientist     MarineTraffic   \n",
       "\n",
       "                     location         type company_size  \\\n",
       "0  Nea Smyrni, Attiki, Greece    Full-time        11-50   \n",
       "1      Athens, Attiki, Greece    Full-time        11-50   \n",
       "2     Paiania, Attiki, Greece    Full-time  1,001-5,000   \n",
       "3      Athens, Attiki, Greece  Entry level  1,001-5,000   \n",
       "4      Athens, Attiki, Greece    Full-time       51-200   \n",
       "\n",
       "                               industry workplace    published  \\\n",
       "0                    Telecommunications   On-site  2 weeks ago   \n",
       "1                  Software Development   On-site  1 month ago   \n",
       "2                    Telecommunications   On-site  1 month ago   \n",
       "3  Technology, Information and Internet       NaN   3 days ago   \n",
       "4         IT Services and IT Consulting    Remote  2 weeks ago   \n",
       "\n",
       "                                         description           date_inserted  \\\n",
       "0  We are looking for a bright Machine Learning E... 2022-11-27 13:31:33.086   \n",
       "1  We are looking for a Machine Learning (ML) Eng... 2022-11-27 13:31:37.809   \n",
       "2  INTRACOM TELECOM is a global telecommunication... 2022-11-27 13:31:42.351   \n",
       "3  We are in the unique position to experience ne... 2022-11-27 13:31:47.247   \n",
       "4  We are a growing group of 190+ talented people... 2022-11-27 13:31:51.619   \n",
       "\n",
       "  level  \n",
       "0   NaN  \n",
       "1   NaN  \n",
       "2   NaN  \n",
       "3   NaN  \n",
       "4   NaN  "
      ]
     },
     "execution_count": 5,
     "metadata": {},
     "output_type": "execute_result"
    }
   ],
   "source": [
    "df.head()"
   ]
  },
  {
   "cell_type": "code",
   "execution_count": 6,
   "id": "a623b9b8",
   "metadata": {},
   "outputs": [
    {
     "data": {
      "text/plain": [
       "title             0\n",
       "roles             0\n",
       "company           0\n",
       "location          0\n",
       "type              0\n",
       "company_size      0\n",
       "industry          1\n",
       "workplace         6\n",
       "published         0\n",
       "description       0\n",
       "date_inserted     0\n",
       "level            19\n",
       "dtype: int64"
      ]
     },
     "execution_count": 6,
     "metadata": {},
     "output_type": "execute_result"
    }
   ],
   "source": [
    "df.isnull().sum()"
   ]
  },
  {
   "cell_type": "markdown",
   "id": "2a1bf2f4",
   "metadata": {},
   "source": [
    "### Plotting the categorical data\n",
    "\n",
    "Let's begin by checkout out the distribution in the category columns of **roles** and **industry**."
   ]
  },
  {
   "cell_type": "code",
   "execution_count": 7,
   "id": "2b75b2d8",
   "metadata": {},
   "outputs": [
    {
     "data": {
      "text/plain": [
       "Data Scientist    23\n",
       "AI Engineer        7\n",
       "ML Engineer        4\n",
       "MLOps              1\n",
       "Name: roles, dtype: int64"
      ]
     },
     "execution_count": 7,
     "metadata": {},
     "output_type": "execute_result"
    }
   ],
   "source": [
    "df_role_count = df['roles'].value_counts()\n",
    "df_role_count"
   ]
  },
  {
   "cell_type": "code",
   "execution_count": 8,
   "id": "f898725f",
   "metadata": {},
   "outputs": [
    {
     "data": {
      "text/plain": [
       "<AxesSubplot: >"
      ]
     },
     "execution_count": 8,
     "metadata": {},
     "output_type": "execute_result"
    },
    {
     "data": {
      "image/png": "[encoded data removed]",
      "text/plain": [
       "<Figure size 640x480 with 1 Axes>"
      ]
     },
     "metadata": {},
     "output_type": "display_data"
    }
   ],
   "source": [
    "df_role_count.plot.barh()"
   ]
  },
  {
   "cell_type": "code",
   "execution_count": 9,
   "id": "bf0c4248",
   "metadata": {},
   "outputs": [
    {
     "data": {
      "text/plain": [
       "IT Services and IT Consulting           9\n",
       "Telecommunications                      6\n",
       "Software Development                    6\n",
       "Technology, Information and Internet    3\n",
       "Accounting                              2\n",
       "Financial Services                      2\n",
       "Manufacturing                           1\n",
       "Maritime Transportation                 1\n",
       "Market Research                         1\n",
       "Retail                                  1\n",
       "Oil and Gas                             1\n",
       "Staffing and Recruiting                 1\n",
       "Name: industry, dtype: int64"
      ]
     },
     "execution_count": 9,
     "metadata": {},
     "output_type": "execute_result"
    }
   ],
   "source": [
    "df_industry_count = df['industry'].value_counts()\n",
    "df_industry_count"
   ]
  },
  {
   "cell_type": "code",
   "execution_count": 10,
   "id": "799f4827",
   "metadata": {},
   "outputs": [
    {
     "data": {
      "text/plain": [
       "<AxesSubplot: >"
      ]
     },
     "execution_count": 10,
     "metadata": {},
     "output_type": "execute_result"
    },
    {
     "data": {
      "image/png": "[encoded data removed]",
      "text/plain": [
       "<Figure size 640x480 with 1 Axes>"
      ]
     },
     "metadata": {},
     "output_type": "display_data"
    }
   ],
   "source": [
    "df_industry_count.plot.barh()"
   ]
  },
  {
   "cell_type": "markdown",
   "id": "79f3bc99",
   "metadata": {},
   "source": [
    "Next we will see the columns describing the workplace and the level.\n",
    "\n",
    "Notice that the level category has the most null values, which we will probably drop later on."
   ]
  },
  {
   "cell_type": "code",
   "execution_count": 11,
   "id": "c3fb6413",
   "metadata": {},
   "outputs": [
    {
     "data": {
      "text/plain": [
       "On-site    15\n",
       "Remote      8\n",
       "Hybrid      6\n",
       "Name: workplace, dtype: int64"
      ]
     },
     "execution_count": 11,
     "metadata": {},
     "output_type": "execute_result"
    }
   ],
   "source": [
    "df_work_count = df['workplace'].value_counts()\n",
    "df_work_count"
   ]
  },
  {
   "cell_type": "code",
   "execution_count": 12,
   "id": "dac85877",
   "metadata": {},
   "outputs": [
    {
     "data": {
      "text/plain": [
       "Entry level         8\n",
       "Mid-Senior level    5\n",
       "Associate           2\n",
       "Executive           1\n",
       "Name: level, dtype: int64"
      ]
     },
     "execution_count": 12,
     "metadata": {},
     "output_type": "execute_result"
    }
   ],
   "source": [
    "df_level_count = df['level'].value_counts()\n",
    "df_level_count"
   ]
  },
  {
   "cell_type": "code",
   "execution_count": 13,
   "id": "5c87b540",
   "metadata": {},
   "outputs": [
    {
     "data": {
      "image/png": "[encoded data removed]",
      "text/plain": [
       "<Figure size 900x500 with 2 Axes>"
      ]
     },
     "metadata": {},
     "output_type": "display_data"
    }
   ],
   "source": [
    "fig, axes = plt.subplots(1, 2, figsize=(9, 5))\n",
    "plt.subplots_adjust(wspace=0.4)\n",
    "\n",
    "axes[0].pie(df_work_count, labels=df_work_count.index, autopct='%.0f%%')\n",
    "axes[0].set_title(\"Workplace\")\n",
    "\n",
    "axes[1].pie(df_level_count, labels=df_level_count.index, autopct='%.0f%%')\n",
    "axes[1].set_title(\"Level\")\n",
    "\n",
    "plt.show()"
   ]
  },
  {
   "cell_type": "markdown",
   "id": "ada9a7f5",
   "metadata": {},
   "source": [
    "### Plotting word frequencies\n",
    "\n",
    "Let's check out the 20 most common words in the role category."
   ]
  },
  {
   "cell_type": "code",
   "execution_count": 14,
   "id": "06cda721",
   "metadata": {},
   "outputs": [],
   "source": [
    "from collections import Counter\n",
    "ds_ct    = Counter(\" \".join(df[df['roles']=='Data Scientist'][\"description\"]).split()).most_common(20)\n",
    "ai_ct    = Counter(\" \".join(df[df['roles']=='AI Engineer'][\"description\"]).split()).most_common(20)\n",
    "ml_ct    = Counter(\" \".join(df[df['roles']=='ML Engineer'][\"description\"]).split()).most_common(20)\n",
    "mlops_ct = Counter(\" \".join(df[df['roles']=='MLOps'][\"description\"]).split()).most_common(20)"
   ]
  },
  {
   "cell_type": "code",
   "execution_count": 15,
   "id": "3cdd6379",
   "metadata": {},
   "outputs": [],
   "source": [
    "df_ds = pd.DataFrame.from_dict(ds_ct)\n",
    "df_ds = df_ds.rename(columns={0: \"word\", 1 : \"count\"})\n",
    "\n",
    "df_ai = pd.DataFrame.from_dict(ai_ct)\n",
    "df_ai = df_ai.rename(columns={0: \"word\", 1 : \"count\"})\n",
    "\n",
    "df_ml = pd.DataFrame.from_dict(ml_ct)\n",
    "df_ml = df_ml.rename(columns={0: \"word\", 1 : \"count\"})\n",
    "\n",
    "df_mlops = pd.DataFrame.from_dict(mlops_ct)\n",
    "df_mlops = df_mlops.rename(columns={0: \"word\", 1 : \"count\"})"
   ]
  },
  {
   "cell_type": "code",
   "execution_count": 16,
   "id": "0a400fc7",
   "metadata": {},
   "outputs": [
    {
     "data": {
      "image/png": "[encoded data removed]",
      "text/plain": [
       "<Figure size 1000x800 with 4 Axes>"
      ]
     },
     "metadata": {},
     "output_type": "display_data"
    }
   ],
   "source": [
    "fig, axes = plt.subplots(2, 2, figsize=(10, 8))\n",
    "plt.subplots_adjust(hspace=0.5)\n",
    "\n",
    "df_ds.plot.bar(x='word', y='count', legend=False, ax=axes[0,0])\n",
    "axes[0,0].set_title('Data Scientist')\n",
    "axes[0,0].set(xlabel=None)\n",
    "\n",
    "df_ai.plot.bar(x='word', y='count', legend=False, ax=axes[0,1])\n",
    "axes[0,1].set_title('AI Engineer')\n",
    "axes[0,1].set(xlabel=None)\n",
    "\n",
    "df_ml.plot.bar(x='word', y='count', legend=False, ax=axes[1,0])\n",
    "axes[1,0].set_title('ML Engineer')\n",
    "axes[1,0].set(xlabel=None)\n",
    "\n",
    "df_mlops.plot.bar(x='word', y='count', legend=False, ax=axes[1,1])\n",
    "axes[1,1].set_title('MLOps')\n",
    "axes[1,1].set(xlabel=None)\n",
    "\n",
    "plt.show()"
   ]
  },
  {
   "cell_type": "markdown",
   "id": "49215755",
   "metadata": {},
   "source": [
    "As we can see, the most common words are either propositions, conjuctions or pronouns.\n",
    "\n",
    "Some entries are also not words but symbols or punctuation.\n",
    "\n",
    "Later we will try to eliminate those as they should have no influence on the training of our model."
   ]
  },
  {
   "cell_type": "markdown",
   "id": "cf46c724",
   "metadata": {},
   "source": [
    "## Data Preprocessing\n",
    "\n",
    "This part, called *data preprocessing*, is where we perform various transformations to the raw dataset's fields.\n",
    "\n",
    "In detail, we will:\n",
    "\n",
    "1. Convert all text to lower case\n",
    "2. Remove special characters, unnecessary punctuation and digits\n",
    "3. Tokenize sentences\n",
    "4. Remove stop words\n",
    "5. Lemmatize the description words"
   ]
  },
  {
   "cell_type": "markdown",
   "id": "7cb0d837",
   "metadata": {},
   "source": [
    "### Convert all text to lower case"
   ]
  },
  {
   "cell_type": "code",
   "execution_count": 17,
   "id": "128c3010",
   "metadata": {},
   "outputs": [
    {
     "data": {
      "text/plain": [
       "0    we are looking for a bright machine learning e...\n",
       "1    we are looking for a machine learning (ml) eng...\n",
       "2    intracom telecom is a global telecommunication...\n",
       "3    we are in the unique position to experience ne...\n",
       "4    we are a growing group of 190+ talented people...\n",
       "Name: description, dtype: object"
      ]
     },
     "execution_count": 17,
     "metadata": {},
     "output_type": "execute_result"
    }
   ],
   "source": [
    "df['description'] = df['description'].apply(lambda x: x.lower())\n",
    "df['description'].head()"
   ]
  },
  {
   "cell_type": "markdown",
   "id": "9e9ada39",
   "metadata": {},
   "source": [
    "### Remove special characters, unnecessary punctuation and digits"
   ]
  },
  {
   "cell_type": "code",
   "execution_count": 18,
   "id": "e0e66f02",
   "metadata": {},
   "outputs": [
    {
     "data": {
      "text/plain": [
       "0    we are looking for a bright machine learning e...\n",
       "1    we are looking for a machine learning  ml  eng...\n",
       "2    intracom telecom is a global telecommunication...\n",
       "3    we are in the unique position to experience ne...\n",
       "4    we are a growing group of 190  talented people...\n",
       "Name: description, dtype: object"
      ]
     },
     "execution_count": 18,
     "metadata": {},
     "output_type": "execute_result"
    }
   ],
   "source": [
    "df['description'] = df['description'].str.replace(r'[^\\w\\s]', ' ', regex=True)\n",
    "df['description'].head()"
   ]
  },
  {
   "cell_type": "code",
   "execution_count": 19,
   "id": "9b8d46a7",
   "metadata": {},
   "outputs": [
    {
     "data": {
      "text/plain": [
       "0    we are looking for a bright machine learning e...\n",
       "1    we are looking for a machine learning  ml  eng...\n",
       "2    intracom telecom is a global telecommunication...\n",
       "3    we are in the unique position to experience ne...\n",
       "4    we are a growing group of   talented people  s...\n",
       "Name: description, dtype: object"
      ]
     },
     "execution_count": 19,
     "metadata": {},
     "output_type": "execute_result"
    }
   ],
   "source": [
    "df['description'] = df['description'].str.replace(r'\\d+', '', regex=True)\n",
    "df['description'].head()"
   ]
  },
  {
   "cell_type": "markdown",
   "id": "1f2e0944",
   "metadata": {},
   "source": [
    "### Tokenize sentences"
   ]
  },
  {
   "cell_type": "code",
   "execution_count": 20,
   "id": "5124fdbf",
   "metadata": {},
   "outputs": [
    {
     "data": {
      "text/plain": [
       "0    [we, are, looking, for, a, bright, machine, le...\n",
       "1    [we, are, looking, for, a, machine, learning, ...\n",
       "2    [intracom, telecom, is, a, global, telecommuni...\n",
       "3    [we, are, in, the, unique, position, to, exper...\n",
       "4    [we, are, a, growing, group, of, talented, peo...\n",
       "Name: description, dtype: object"
      ]
     },
     "execution_count": 20,
     "metadata": {},
     "output_type": "execute_result"
    }
   ],
   "source": [
    "from nltk.tokenize import word_tokenize\n",
    "\n",
    "df['description'] = df['description'].apply(lambda x: word_tokenize(x))\n",
    "df['description'].head()"
   ]
  },
  {
   "cell_type": "markdown",
   "id": "e968a168",
   "metadata": {},
   "source": [
    "### POS Tagging"
   ]
  },
  {
   "cell_type": "code",
   "execution_count": 42,
   "id": "335ae97b",
   "metadata": {},
   "outputs": [
    {
     "data": {
      "text/html": [
       "<div>\n",
       "<style scoped>\n",
       "    .dataframe tbody tr th:only-of-type {\n",
       "        vertical-align: middle;\n",
       "    }\n",
       "\n",
       "    .dataframe tbody tr th {\n",
       "        vertical-align: top;\n",
       "    }\n",
       "\n",
       "    .dataframe thead th {\n",
       "        text-align: right;\n",
       "    }\n",
       "</style>\n",
       "<table border=\"1\" class=\"dataframe\">\n",
       "  <thead>\n",
       "    <tr style=\"text-align: right;\">\n",
       "      <th></th>\n",
       "      <th>word</th>\n",
       "    </tr>\n",
       "    <tr>\n",
       "      <th>POS</th>\n",
       "      <th></th>\n",
       "    </tr>\n",
       "  </thead>\n",
       "  <tbody>\n",
       "    <tr>\n",
       "      <th>NN</th>\n",
       "      <td>5358</td>\n",
       "    </tr>\n",
       "    <tr>\n",
       "      <th>JJ</th>\n",
       "      <td>2408</td>\n",
       "    </tr>\n",
       "    <tr>\n",
       "      <th>NNS</th>\n",
       "      <td>2380</td>\n",
       "    </tr>\n",
       "    <tr>\n",
       "      <th>IN</th>\n",
       "      <td>2166</td>\n",
       "    </tr>\n",
       "    <tr>\n",
       "      <th>CC</th>\n",
       "      <td>1256</td>\n",
       "    </tr>\n",
       "    <tr>\n",
       "      <th>DT</th>\n",
       "      <td>1082</td>\n",
       "    </tr>\n",
       "    <tr>\n",
       "      <th>VB</th>\n",
       "      <td>934</td>\n",
       "    </tr>\n",
       "    <tr>\n",
       "      <th>VBG</th>\n",
       "      <td>741</td>\n",
       "    </tr>\n",
       "    <tr>\n",
       "      <th>VBP</th>\n",
       "      <td>677</td>\n",
       "    </tr>\n",
       "    <tr>\n",
       "      <th>TO</th>\n",
       "      <td>588</td>\n",
       "    </tr>\n",
       "    <tr>\n",
       "      <th>PRP</th>\n",
       "      <td>529</td>\n",
       "    </tr>\n",
       "    <tr>\n",
       "      <th>RB</th>\n",
       "      <td>381</td>\n",
       "    </tr>\n",
       "    <tr>\n",
       "      <th>VBN</th>\n",
       "      <td>325</td>\n",
       "    </tr>\n",
       "    <tr>\n",
       "      <th>PRP$</th>\n",
       "      <td>316</td>\n",
       "    </tr>\n",
       "    <tr>\n",
       "      <th>VBZ</th>\n",
       "      <td>285</td>\n",
       "    </tr>\n",
       "    <tr>\n",
       "      <th>MD</th>\n",
       "      <td>213</td>\n",
       "    </tr>\n",
       "    <tr>\n",
       "      <th>VBD</th>\n",
       "      <td>78</td>\n",
       "    </tr>\n",
       "    <tr>\n",
       "      <th>WP</th>\n",
       "      <td>65</td>\n",
       "    </tr>\n",
       "    <tr>\n",
       "      <th>WDT</th>\n",
       "      <td>65</td>\n",
       "    </tr>\n",
       "    <tr>\n",
       "      <th>JJS</th>\n",
       "      <td>58</td>\n",
       "    </tr>\n",
       "    <tr>\n",
       "      <th>WRB</th>\n",
       "      <td>41</td>\n",
       "    </tr>\n",
       "    <tr>\n",
       "      <th>JJR</th>\n",
       "      <td>36</td>\n",
       "    </tr>\n",
       "    <tr>\n",
       "      <th>CD</th>\n",
       "      <td>31</td>\n",
       "    </tr>\n",
       "    <tr>\n",
       "      <th>RP</th>\n",
       "      <td>21</td>\n",
       "    </tr>\n",
       "    <tr>\n",
       "      <th>FW</th>\n",
       "      <td>21</td>\n",
       "    </tr>\n",
       "    <tr>\n",
       "      <th>RBS</th>\n",
       "      <td>12</td>\n",
       "    </tr>\n",
       "    <tr>\n",
       "      <th>RBR</th>\n",
       "      <td>12</td>\n",
       "    </tr>\n",
       "    <tr>\n",
       "      <th>PDT</th>\n",
       "      <td>9</td>\n",
       "    </tr>\n",
       "    <tr>\n",
       "      <th>EX</th>\n",
       "      <td>3</td>\n",
       "    </tr>\n",
       "    <tr>\n",
       "      <th>NNP</th>\n",
       "      <td>3</td>\n",
       "    </tr>\n",
       "    <tr>\n",
       "      <th>WP$</th>\n",
       "      <td>1</td>\n",
       "    </tr>\n",
       "  </tbody>\n",
       "</table>\n",
       "</div>"
      ],
      "text/plain": [
       "      word\n",
       "POS       \n",
       "NN    5358\n",
       "JJ    2408\n",
       "NNS   2380\n",
       "IN    2166\n",
       "CC    1256\n",
       "DT    1082\n",
       "VB     934\n",
       "VBG    741\n",
       "VBP    677\n",
       "TO     588\n",
       "PRP    529\n",
       "RB     381\n",
       "VBN    325\n",
       "PRP$   316\n",
       "VBZ    285\n",
       "MD     213\n",
       "VBD     78\n",
       "WP      65\n",
       "WDT     65\n",
       "JJS     58\n",
       "WRB     41\n",
       "JJR     36\n",
       "CD      31\n",
       "RP      21\n",
       "FW      21\n",
       "RBS     12\n",
       "RBR     12\n",
       "PDT      9\n",
       "EX       3\n",
       "NNP      3\n",
       "WP$      1"
      ]
     },
     "execution_count": 42,
     "metadata": {},
     "output_type": "execute_result"
    }
   ],
   "source": [
    "#nltk.download('averaged_perceptron_tagger')\n",
    "from nltk import pos_tag\n",
    "\n",
    "word_pos = df['description'].apply(lambda x: pos_tag(x))\n",
    "\n",
    "combined = [x for pos_word in word_pos.tolist() for x in pos_word]\n",
    "\n",
    "pos_df = pd.DataFrame(combined, columns = ('word','POS'))\n",
    "pos_df.head()\n",
    "\n",
    "pos_sum = pos_df.groupby('POS').count() # group by POS tags\n",
    "pos_sum.sort_values(['word'], ascending=[False]) # in descending order of number of words per tag"
   ]
  },
  {
   "cell_type": "markdown",
   "id": "d8cd9319",
   "metadata": {},
   "source": [
    "### Remove stop words"
   ]
  },
  {
   "cell_type": "code",
   "execution_count": null,
   "id": "b777b0ce",
   "metadata": {},
   "outputs": [],
   "source": [
    "#nltk.download('stopwords')\n",
    "from nltk.corpus import stopwords\n",
    "\n",
    "stop_words = stopwords.words('english')\n",
    "df['description'] = df['description'].apply(lambda x: [word for word in x if word[0] not in stop_words])\n",
    "df['description'].head()"
   ]
  },
  {
   "cell_type": "markdown",
   "id": "a8e62dd8",
   "metadata": {},
   "source": [
    "### Lemmatize the description words"
   ]
  },
  {
   "cell_type": "code",
   "execution_count": null,
   "id": "4713cb3f",
   "metadata": {},
   "outputs": [],
   "source": [
    "from nltk.stem import WordNetLemmatizer\n",
    "\n",
    "wordnet_lemmatizer = WordNetLemmatizer()\n",
    "df['description'] = df['description'].apply(lambda x: [wordnet_lemmatizer.lemmatize(word) for word in x])\n",
    "df['description'].head()"
   ]
  },
  {
   "cell_type": "markdown",
   "id": "b697e825",
   "metadata": {},
   "source": [
    "## Exploratory Data Analysis"
   ]
  },
  {
   "cell_type": "markdown",
   "id": "39fcb8f5",
   "metadata": {},
   "source": [
    "### Wordcloud visualizations\n",
    "\n",
    "We are going to use the wordcloud package to visualize and show the most common tokens in each role.\n",
    "\n",
    "First, let's check the unique roles we can find in the preprocessed dataset and then append all tokens to each respective role."
   ]
  },
  {
   "cell_type": "code",
   "execution_count": null,
   "id": "c6262a5c",
   "metadata": {},
   "outputs": [],
   "source": [
    "# Keep only the relevant columns\n",
    "df = df[[\"roles\", \"description\"]]\n",
    "\n",
    "# Append description tokens to a single list based on it's respective role\n",
    "role_descs = df.groupby([\"roles\"]).sum().reset_index()\n",
    "role_list = role_descs['roles'].unique().tolist()\n",
    "role_descs.head()"
   ]
  },
  {
   "cell_type": "code",
   "execution_count": null,
   "id": "ce6de871",
   "metadata": {},
   "outputs": [],
   "source": [
    "from wordcloud import WordCloud\n",
    "\n",
    "for role in role_list:\n",
    "    # Get the description tokens for each role\n",
    "    tokens = role_descs[role_descs['roles'] == role].iloc[0].description\n",
    "\n",
    "    # Create and generate a word cloud image:\n",
    "    wordcloud = WordCloud().generate_from_text(' '.join(tokens))\n",
    "\n",
    "    # Display the generated image:\n",
    "    plt.imshow(wordcloud, interpolation='bilinear')\n",
    "    plt.axis(\"off\")\n",
    "    plt.title(role)\n",
    "    plt.show()"
   ]
  },
  {
   "cell_type": "markdown",
   "id": "f2f8e92c",
   "metadata": {},
   "source": [
    "### Visualizing n-gram distributions"
   ]
  },
  {
   "cell_type": "code",
   "execution_count": null,
   "id": "9d1bdd48",
   "metadata": {},
   "outputs": [],
   "source": [
    "from nltk import FreqDist\n",
    "from nltk.util import ngrams  \n",
    "\n",
    "fig, axes = plt.subplots(4, 2, figsize=(10, 16))\n",
    "plt.subplots_adjust(wspace=1, hspace=0.4)\n",
    "\n",
    "index = 0\n",
    "for role in role_list:\n",
    "    tokens = role_descs[role_descs['roles'] == role].iloc[0].description\n",
    "\n",
    "    bi_grams = ngrams(tokens, 2)\n",
    "    tri_grams = ngrams(tokens, 3)\n",
    "    \n",
    "    bi_gram_dist = FreqDist(bi_grams).most_common(20)\n",
    "    tri_gram_dist = FreqDist(tri_grams).most_common(20)\n",
    "\n",
    "    ## Join bigram tokens with '_' + maintain sorting\n",
    "    bi_gram_joined = {' '.join(k):v for k,v in sorted(bi_gram_dist, key=lambda item:item[1], reverse=True)}\n",
    "    tri_gram_joined = {' '.join(k):v for k,v in sorted(tri_gram_dist, key=lambda item:item[1], reverse=True)}\n",
    "\n",
    "    ## Convert to Pandas series for easy plotting\n",
    "    bi_gram_freqdist = pd.Series(bi_gram_joined)\n",
    "    tri_gram_freqdist = pd.Series(tri_gram_joined)\n",
    "    \n",
    "    ## Plotting\n",
    "    bp1 = sns.barplot(x=bi_gram_freqdist.values, y=bi_gram_freqdist.index, orient='h', ax=axes[index, 0])\n",
    "    axes[index,0].set_title(f'2-gram frequency distribution for {role}')\n",
    "    \n",
    "    bp2 = sns.barplot(x=tri_gram_freqdist.values, y=tri_gram_freqdist.index, orient='h', ax=axes[index, 1])\n",
    "    axes[index,1].set_title(f'3-gram frequency distribution for {role}')\n",
    "    \n",
    "    index += 1\n",
    "    \n",
    "plt.show()"
   ]
  },
  {
   "cell_type": "markdown",
   "id": "7bec8a42",
   "metadata": {},
   "source": [
    "## Feature Engineering\n",
    "\n",
    "As we can see from both the cloudword images and the n-gram distributions, there are still some words that we can safely remove as they provide no meaning for any role. Some of these could be the name of the company, or short words like \"e.g\".\n",
    "\n",
    "Let's put them manually in another set of stop words."
   ]
  },
  {
   "cell_type": "code",
   "execution_count": null,
   "id": "bb9f56a7",
   "metadata": {},
   "outputs": [],
   "source": []
  }
 ],
 "metadata": {
  "kernelspec": {
   "display_name": "Python 3 (ipykernel)",
   "language": "python",
   "name": "python3"
  },
  "language_info": {
   "codemirror_mode": {
    "name": "ipython",
    "version": 3
   },
   "file_extension": ".py",
   "mimetype": "text/x-python",
   "name": "python",
   "nbconvert_exporter": "python",
   "pygments_lexer": "ipython3",
   "version": "3.10.8"
  }
 },
 "nbformat": 4,
 "nbformat_minor": 5
}
