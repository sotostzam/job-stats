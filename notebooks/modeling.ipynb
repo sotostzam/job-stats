{
 "cells": [
  {
   "cell_type": "markdown",
   "id": "9bfc3ef9",
   "metadata": {},
   "source": [
    "# Modeling\n",
    "\n",
    "In this notebook I am apply different machine learning models to predict the skills that I need from the job descriptions.\n",
    "\n",
    "## Table of contents\n",
    "\n",
    "1. [Dataset loading and exploration](#Dataset-loading-and-preparation)\n",
    "2. [Multi-class Classifiers](#Multi-class-Classifiers)\n",
    "3. [Neural Networks Adaptation](#Neural-Networks-Adaptation)\n",
    "\n",
    "## Dataset loading and preparation"
   ]
  },
  {
   "cell_type": "code",
   "execution_count": 19,
   "id": "74efb47e",
   "metadata": {},
   "outputs": [],
   "source": [
    "import sys\n",
    "sys.path.append(\"..\")\n",
    "sys.path.append(\"../modeling/\")"
   ]
  },
  {
   "cell_type": "code",
   "execution_count": 20,
   "id": "aae5e582",
   "metadata": {},
   "outputs": [],
   "source": [
    "import pandas as pd                # Data processing\n",
    "import matplotlib.pyplot as plt    # Data visualization purposes\n",
    "import seaborn as sns              # Statistical data visualization\n",
    "%matplotlib inline\n",
    "sns.set_theme()"
   ]
  },
  {
   "cell_type": "code",
   "execution_count": 21,
   "id": "9943d25d",
   "metadata": {},
   "outputs": [
    {
     "data": {
      "text/plain": [
       "not_skill     3459\n",
       "hard_skill     468\n",
       "soft_skill      73\n",
       "Name: type, dtype: int64"
      ]
     },
     "execution_count": 21,
     "metadata": {},
     "output_type": "execute_result"
    }
   ],
   "source": [
    "df = pd.read_csv('noun_phrases_class.csv')\n",
    "df['type'].value_counts()"
   ]
  },
  {
   "cell_type": "code",
   "execution_count": 22,
   "id": "75523c1a",
   "metadata": {},
   "outputs": [
    {
     "data": {
      "text/plain": [
       "0"
      ]
     },
     "execution_count": 22,
     "metadata": {},
     "output_type": "execute_result"
    }
   ],
   "source": [
    "df['type'].isnull().sum()"
   ]
  },
  {
   "cell_type": "code",
   "execution_count": 23,
   "id": "a7a9e887",
   "metadata": {},
   "outputs": [
    {
     "data": {
      "text/plain": [
       "<AxesSubplot: >"
      ]
     },
     "execution_count": 23,
     "metadata": {},
     "output_type": "execute_result"
    },
    {
     "data": {
      "image/png": "[encoded data removed]",
      "text/plain": [
       "<Figure size 640x480 with 1 Axes>"
      ]
     },
     "metadata": {},
     "output_type": "display_data"
    }
   ],
   "source": [
    "df['type'].value_counts().plot(kind='bar', rot=0)"
   ]
  },
  {
   "cell_type": "code",
   "execution_count": 24,
   "id": "b9b56dc3",
   "metadata": {},
   "outputs": [
    {
     "data": {
      "text/plain": [
       "(4000, 2760)"
      ]
     },
     "execution_count": 24,
     "metadata": {},
     "output_type": "execute_result"
    }
   ],
   "source": [
    "import numpy as np\n",
    "from sklearn.feature_extraction.text import TfidfVectorizer\n",
    "\n",
    "transformer = TfidfVectorizer(stop_words = 'english')\n",
    "X = transformer.fit_transform(df[\"phrase\"])\n",
    "np.shape(X)"
   ]
  },
  {
   "cell_type": "code",
   "execution_count": 25,
   "id": "4669df0f",
   "metadata": {},
   "outputs": [
    {
     "data": {
      "text/plain": [
       "((2800, 2760), (1200, 2760))"
      ]
     },
     "execution_count": 25,
     "metadata": {},
     "output_type": "execute_result"
    }
   ],
   "source": [
    "from sklearn.model_selection import train_test_split\n",
    "\n",
    "# Extract features and prediction vectors\n",
    "y = df['type'].map({'not_skill':0, 'hard_skill':1, 'soft_skill':2})\n",
    "X_train, X_test, y_train, y_test = train_test_split(X, y, test_size = 0.3, random_state = 1)\n",
    "X_train.shape, X_test.shape"
   ]
  },
  {
   "cell_type": "markdown",
   "id": "d843dee1",
   "metadata": {},
   "source": [
    "## Multi-class Classifiers\n",
    "\n",
    "For this part I am going to train various classifiers and compare the training results. In detail the classifiers I will use are:\n",
    "\n",
    "1. Multinomial Naive Bayes\n",
    "2. Support Vector Machine\n",
    "3. Random Forest\n",
    "4. Logistic Regression"
   ]
  },
  {
   "cell_type": "code",
   "execution_count": 26,
   "id": "7c0b430e",
   "metadata": {},
   "outputs": [],
   "source": [
    "from sklearn.naive_bayes import MultinomialNB\n",
    "from sklearn.svm import LinearSVC\n",
    "from sklearn.ensemble import RandomForestClassifier\n",
    "from sklearn.linear_model import LogisticRegression\n",
    "\n",
    "models = [\n",
    "    MultinomialNB(),\n",
    "    LinearSVC(),\n",
    "    RandomForestClassifier(),\n",
    "    LogisticRegression()\n",
    "]"
   ]
  },
  {
   "cell_type": "code",
   "execution_count": 27,
   "id": "2e5f9b2c",
   "metadata": {},
   "outputs": [],
   "source": [
    "measurements = []\n",
    "\n",
    "for model in models:\n",
    "    model.fit(X_train, y_train)\n",
    "    score_train = model.score(X_train, y_train)\n",
    "    score_test  = model.score(X_test,  y_test)\n",
    "    \n",
    "    measurements.append([model.__class__.__name__, score_train, score_test])"
   ]
  },
  {
   "cell_type": "code",
   "execution_count": 28,
   "id": "4cfbfd8e",
   "metadata": {},
   "outputs": [
    {
     "data": {
      "text/html": [
       "<div>\n",
       "<style scoped>\n",
       "    .dataframe tbody tr th:only-of-type {\n",
       "        vertical-align: middle;\n",
       "    }\n",
       "\n",
       "    .dataframe tbody tr th {\n",
       "        vertical-align: top;\n",
       "    }\n",
       "\n",
       "    .dataframe thead th {\n",
       "        text-align: right;\n",
       "    }\n",
       "</style>\n",
       "<table border=\"1\" class=\"dataframe\">\n",
       "  <thead>\n",
       "    <tr style=\"text-align: right;\">\n",
       "      <th></th>\n",
       "      <th>model</th>\n",
       "      <th>train_accuracy</th>\n",
       "      <th>test_accuracy</th>\n",
       "    </tr>\n",
       "  </thead>\n",
       "  <tbody>\n",
       "    <tr>\n",
       "      <th>0</th>\n",
       "      <td>MultinomialNB</td>\n",
       "      <td>0.894643</td>\n",
       "      <td>0.897500</td>\n",
       "    </tr>\n",
       "    <tr>\n",
       "      <th>1</th>\n",
       "      <td>LinearSVC</td>\n",
       "      <td>0.976786</td>\n",
       "      <td>0.925000</td>\n",
       "    </tr>\n",
       "    <tr>\n",
       "      <th>2</th>\n",
       "      <td>RandomForestClassifier</td>\n",
       "      <td>0.997857</td>\n",
       "      <td>0.914167</td>\n",
       "    </tr>\n",
       "    <tr>\n",
       "      <th>3</th>\n",
       "      <td>LogisticRegression</td>\n",
       "      <td>0.923214</td>\n",
       "      <td>0.905833</td>\n",
       "    </tr>\n",
       "  </tbody>\n",
       "</table>\n",
       "</div>"
      ],
      "text/plain": [
       "                    model  train_accuracy  test_accuracy\n",
       "0           MultinomialNB        0.894643       0.897500\n",
       "1               LinearSVC        0.976786       0.925000\n",
       "2  RandomForestClassifier        0.997857       0.914167\n",
       "3      LogisticRegression        0.923214       0.905833"
      ]
     },
     "execution_count": 28,
     "metadata": {},
     "output_type": "execute_result"
    }
   ],
   "source": [
    "results = pd.DataFrame(measurements, columns=['model', 'train_accuracy', 'test_accuracy'])\n",
    "results"
   ]
  },
  {
   "cell_type": "code",
   "execution_count": 29,
   "id": "04cd310c",
   "metadata": {},
   "outputs": [
    {
     "name": "stdout",
     "output_type": "stream",
     "text": [
      "Null accuracy score: 0.8742\n",
      "\n",
      "0    1049\n",
      "1     131\n",
      "2      20\n",
      "Name: type, dtype: int64\n",
      "\n"
     ]
    }
   ],
   "source": [
    "# Null Accuracy\n",
    "\n",
    "null_accuracy = (1049/(1049+131+20))\n",
    "\n",
    "print('Null accuracy score: {0:0.4f}\\n'.format(null_accuracy))\n",
    "\n",
    "print(f'{y_test.value_counts()}\\n')"
   ]
  },
  {
   "cell_type": "code",
   "execution_count": 30,
   "id": "6e331f97",
   "metadata": {},
   "outputs": [
    {
     "data": {
      "image/png": "[encoded data removed]",
      "text/plain": [
       "<Figure size 640x480 with 1 Axes>"
      ]
     },
     "metadata": {},
     "output_type": "display_data"
    }
   ],
   "source": [
    "metrics_plt = sns.barplot(data=results.melt(id_vars='model', value_name='score', var_name='metrics'),\n",
    "                          x='model', y='score', hue='metrics')\n",
    "metrics_plt.tick_params(labelsize=9)\n",
    "\n",
    "plt.axhline(y=null_accuracy, ls='--', c='red', linewidth=1.1)\n",
    "plt.text(-0.45, 0.92, \"Null accuracy\", c='red', size='small')\n",
    "plt.ylim(0, 1.3)\n",
    "plt.tight_layout()\n",
    "plt.show()"
   ]
  },
  {
   "cell_type": "markdown",
   "id": "6cca2ae0",
   "metadata": {},
   "source": [
    "As we can see 3 models perform over the null accuracy score, which is the ideal. It seems like the Random Forest classifier has learned to almost choose the most common class over each prediction. Let's reinforce those results by implementing cross validation to our models."
   ]
  },
  {
   "cell_type": "code",
   "execution_count": 31,
   "id": "943e517e",
   "metadata": {},
   "outputs": [],
   "source": [
    "from sklearn.model_selection import cross_val_score\n",
    "\n",
    "# Get cross validated scores for input models\n",
    "def get_cross_val_scores(models, x, y, cv=10):\n",
    "    measurements = []\n",
    "    for model in models:\n",
    "        accuracies = cross_val_score(model, x, y, cv = cv, scoring = 'accuracy')\n",
    "\n",
    "        for i, accuracy in enumerate(accuracies):\n",
    "            measurements.append((model.__class__.__name__, i, accuracy))\n",
    "\n",
    "    results = pd.DataFrame(measurements, columns=['model', 'fold', 'accuracy_score'])\n",
    "    return results"
   ]
  },
  {
   "cell_type": "code",
   "execution_count": 32,
   "id": "bbc4ca50",
   "metadata": {},
   "outputs": [
    {
     "data": {
      "image/png": "[encoded data removed]",
      "text/plain": [
       "<Figure size 640x480 with 1 Axes>"
      ]
     },
     "metadata": {},
     "output_type": "display_data"
    }
   ],
   "source": [
    "cv_results = get_cross_val_scores(models, X_train, y_train)\n",
    "\n",
    "cs_metrics_bxplt = sns.boxplot(x='model', y='accuracy_score', data=cv_results)\n",
    "cs_metrics_stplt = sns.stripplot(x='model', y='accuracy_score', hue='model', data=cv_results,\n",
    "                                 size=4, jitter=True, linewidth=1, legend=False)\n",
    "\n",
    "cs_metrics_bxplt.tick_params(labelsize=9)\n",
    "plt.tight_layout()\n",
    "plt.show()"
   ]
  },
  {
   "cell_type": "code",
   "execution_count": 33,
   "id": "221bda9b",
   "metadata": {},
   "outputs": [
    {
     "data": {
      "text/plain": [
       "model\n",
       "LinearSVC                 0.908571\n",
       "LogisticRegression        0.896786\n",
       "MultinomialNB             0.879286\n",
       "RandomForestClassifier    0.911786\n",
       "Name: accuracy_score, dtype: float64"
      ]
     },
     "execution_count": 33,
     "metadata": {},
     "output_type": "execute_result"
    }
   ],
   "source": [
    "cv_results.groupby('model').accuracy_score.mean()"
   ]
  },
  {
   "cell_type": "markdown",
   "id": "73e0754c",
   "metadata": {},
   "source": [
    "As we can see the linear SVC model performed the best, with the best accuracy score of all models. On the other hand the worst performing model is the random forest classifier, with even worse score than the null accuracy indication."
   ]
  },
  {
   "cell_type": "code",
   "execution_count": 16,
   "id": "52786347",
   "metadata": {},
   "outputs": [
    {
     "name": "stdout",
     "output_type": "stream",
     "text": [
      "{'alpha': 0.05}\n",
      "{'C': 0.99, 'multi_class': 'multinomial', 'n_jobs': -1, 'random_state': 0, 'warm_start': True}\n",
      "{'criterion': 'gini', 'max_depth': None, 'max_features': None, 'min_samples_leaf': 2, 'min_samples_split': 6, 'n_estimators': 50, 'n_jobs': -1, 'oob_score': True, 'random_state': 0, 'warm_start': True}\n",
      "{'C': 0.8300000000000001, 'multi_class': 'crammer_singer', 'random_state': 0}\n"
     ]
    },
    {
     "name": "stderr",
     "output_type": "stream",
     "text": [
      "D:\\Distributions\\Miniconda3\\envs\\science\\lib\\site-packages\\sklearn\\svm\\_base.py:1244: ConvergenceWarning: Liblinear failed to converge, increase the number of iterations.\n",
      "  warnings.warn(\n"
     ]
    }
   ],
   "source": [
    "from sklearn.model_selection import GridSearchCV\n",
    "\n",
    "# Hyperparameter configurations for GridSearch\n",
    "params_mnb = {'alpha': np.arange(0.01, 1, 0.01)}\n",
    "\n",
    "params_svc = {'random_state': [0], 'C': np.arange(0.01, 1, 0.01), 'multi_class': ['ovr', 'crammer_singer']}\n",
    "\n",
    "params_rfc = {'random_state': [0], 'n_jobs': [-1], 'n_estimators': [25,50,100,200], 'max_features': ['sqrt',None],\n",
    "              'min_samples_leaf': [2,4,], 'min_samples_split': [2,6,], 'oob_score': [True,False], 'criterion': ['gini'],\n",
    "              'warm_start': [True,False], 'max_depth': [None, 3, 5]}\n",
    "\n",
    "params_lrc = {'random_state': [0], 'n_jobs': [-1], 'C': np.arange(0.01, 1, 0.01), 'warm_start': [True,False],\n",
    "              'multi_class': ['multinomial']}\n",
    "    \n",
    "# Automatic hyperparameter tuning using GridSearch\n",
    "mnb_gs = GridSearchCV(models[0], params_mnb, cv=10, scoring=\"f1_macro\", return_train_score=True, n_jobs=-1)\n",
    "svc_gs = GridSearchCV(models[1], params_svc, cv=10, scoring=\"f1_macro\", return_train_score=True, n_jobs=-1)\n",
    "rfc_gs = GridSearchCV(models[2], params_rfc, cv=10, scoring=\"f1_macro\", return_train_score=True, n_jobs=-1)\n",
    "lrc_gs = GridSearchCV(models[3], params_lrc, cv=10, scoring=\"f1_macro\", return_train_score=True, n_jobs=-1)\n",
    "\n",
    "models_gs = [\n",
    "    mnb_gs,\n",
    "    svc_gs,\n",
    "    rfc_gs,\n",
    "    lrc_gs\n",
    "]\n",
    "\n",
    "# Try to fit the models using the Grid Search\n",
    "for model in models_gs:\n",
    "    model.fit(X, y)\n",
    "    print(model.__class__.__name__)\n",
    "    \n",
    "#mnb_gs.fit(X, y)\n",
    "#lrc_gs.fit(X, y)\n",
    "#rfc_gs.fit(X, y)\n",
    "#svc_gs.fit(X, y)\n",
    "                  \n",
    "print(mnb_gs.best_params_)\n",
    "print(lrc_gs.best_params_)\n",
    "print(rfc_gs.best_params_)\n",
    "print(svc_gs.best_params_)"
   ]
  },
  {
   "cell_type": "code",
   "execution_count": 35,
   "id": "58cc2568",
   "metadata": {},
   "outputs": [],
   "source": [
    "# Update the models to use the newly found hyperparameters\n",
    "\n",
    "models = [\n",
    "    MultinomialNB(**mnb_gs.best_params_),\n",
    "    LinearSVC(**svc_gs.best_params_),\n",
    "    RandomForestClassifier(**rfc_gs.best_params_),\n",
    "    LogisticRegression(**lrc_gs.best_params_)\n",
    "]"
   ]
  },
  {
   "cell_type": "code",
   "execution_count": 36,
   "id": "b12a6d82",
   "metadata": {},
   "outputs": [
    {
     "name": "stderr",
     "output_type": "stream",
     "text": [
      "D:\\Distributions\\Miniconda3\\envs\\science\\lib\\site-packages\\sklearn\\svm\\_base.py:1244: ConvergenceWarning: Liblinear failed to converge, increase the number of iterations.\n",
      "  warnings.warn(\n",
      "D:\\Distributions\\Miniconda3\\envs\\science\\lib\\site-packages\\sklearn\\svm\\_base.py:1244: ConvergenceWarning: Liblinear failed to converge, increase the number of iterations.\n",
      "  warnings.warn(\n",
      "D:\\Distributions\\Miniconda3\\envs\\science\\lib\\site-packages\\sklearn\\svm\\_base.py:1244: ConvergenceWarning: Liblinear failed to converge, increase the number of iterations.\n",
      "  warnings.warn(\n",
      "D:\\Distributions\\Miniconda3\\envs\\science\\lib\\site-packages\\sklearn\\svm\\_base.py:1244: ConvergenceWarning: Liblinear failed to converge, increase the number of iterations.\n",
      "  warnings.warn(\n",
      "D:\\Distributions\\Miniconda3\\envs\\science\\lib\\site-packages\\sklearn\\svm\\_base.py:1244: ConvergenceWarning: Liblinear failed to converge, increase the number of iterations.\n",
      "  warnings.warn(\n",
      "D:\\Distributions\\Miniconda3\\envs\\science\\lib\\site-packages\\sklearn\\svm\\_base.py:1244: ConvergenceWarning: Liblinear failed to converge, increase the number of iterations.\n",
      "  warnings.warn(\n",
      "D:\\Distributions\\Miniconda3\\envs\\science\\lib\\site-packages\\sklearn\\svm\\_base.py:1244: ConvergenceWarning: Liblinear failed to converge, increase the number of iterations.\n",
      "  warnings.warn(\n",
      "D:\\Distributions\\Miniconda3\\envs\\science\\lib\\site-packages\\sklearn\\svm\\_base.py:1244: ConvergenceWarning: Liblinear failed to converge, increase the number of iterations.\n",
      "  warnings.warn(\n",
      "D:\\Distributions\\Miniconda3\\envs\\science\\lib\\site-packages\\sklearn\\svm\\_base.py:1244: ConvergenceWarning: Liblinear failed to converge, increase the number of iterations.\n",
      "  warnings.warn(\n",
      "D:\\Distributions\\Miniconda3\\envs\\science\\lib\\site-packages\\sklearn\\svm\\_base.py:1244: ConvergenceWarning: Liblinear failed to converge, increase the number of iterations.\n",
      "  warnings.warn(\n"
     ]
    },
    {
     "data": {
      "image/png": "[encoded data removed]",
      "text/plain": [
       "<Figure size 640x480 with 1 Axes>"
      ]
     },
     "metadata": {},
     "output_type": "display_data"
    }
   ],
   "source": [
    "cv_results = get_cross_val_scores(models, X_train, y_train)\n",
    "\n",
    "cs_metrics_bxplt = sns.boxplot(x='model', y='accuracy_score', data=cv_results)\n",
    "cs_metrics_stplt = sns.stripplot(x='model', y='accuracy_score', hue='model', data=cv_results,\n",
    "                                 size=4, jitter=True, linewidth=1, legend=False)\n",
    "\n",
    "cs_metrics_bxplt.tick_params(labelsize=9)\n",
    "plt.tight_layout()\n",
    "plt.show()"
   ]
  },
  {
   "cell_type": "code",
   "execution_count": null,
   "id": "8ad74ee5",
   "metadata": {},
   "outputs": [],
   "source": []
  },
  {
   "cell_type": "code",
   "execution_count": null,
   "id": "1d97f2f3",
   "metadata": {},
   "outputs": [],
   "source": []
  },
  {
   "cell_type": "code",
   "execution_count": null,
   "id": "c9f1b5b8",
   "metadata": {},
   "outputs": [],
   "source": []
  },
  {
   "cell_type": "code",
   "execution_count": null,
   "id": "848a0213",
   "metadata": {},
   "outputs": [],
   "source": [
    "# Function to calculate and return metrics\n",
    "def get_performance_metrics(tp, tn, fp, fn):\n",
    "    accuracy    = (tp + tn) / float(tp + tn + fp + fn)\n",
    "    error       = (fp + fn) / float(tp + tn + fp + fn)\n",
    "    precision   = tp / float(tp + fp)\n",
    "    recall      = tp / float(tp + fn)\n",
    "    specificity = tn / float(tn + fp)\n",
    "    f1          = 2 * (precision * recall) / (precision + recall)"
   ]
  },
  {
   "cell_type": "code",
   "execution_count": null,
   "id": "3536a6e6",
   "metadata": {},
   "outputs": [],
   "source": []
  },
  {
   "cell_type": "code",
   "execution_count": null,
   "id": "7e35fdfe",
   "metadata": {},
   "outputs": [],
   "source": []
  },
  {
   "cell_type": "code",
   "execution_count": null,
   "id": "2d355a8d",
   "metadata": {},
   "outputs": [],
   "source": []
  },
  {
   "cell_type": "code",
   "execution_count": null,
   "id": "00278ce1",
   "metadata": {},
   "outputs": [],
   "source": []
  },
  {
   "cell_type": "code",
   "execution_count": null,
   "id": "2176428c",
   "metadata": {},
   "outputs": [],
   "source": [
    "# NEW PREDICTION\n",
    "\n",
    "new_phrase = {\n",
    "    'phrase': [\"mediocre skills of R\"],\n",
    "    'type': [None]\n",
    "}\n",
    "\n",
    "new = pd.concat([df, pd.DataFrame(new_phrase)], axis=0).reset_index(drop=True)\n",
    "print(new['phrase'].iloc[-1], '\\n')\n",
    "\n",
    "X = transformer.transform(new[\"phrase\"])\n",
    "print('TfIdf:\\n', X[-1], '\\n')\n",
    "\n",
    "yy = models[1].predict(X[-1])\n",
    "print(f'Class: {yy}')"
   ]
  },
  {
   "cell_type": "code",
   "execution_count": null,
   "id": "bccd1014",
   "metadata": {},
   "outputs": [],
   "source": []
  }
 ],
 "metadata": {
  "kernelspec": {
   "display_name": "Python 3 (ipykernel)",
   "language": "python",
   "name": "python3"
  },
  "language_info": {
   "codemirror_mode": {
    "name": "ipython",
    "version": 3
   },
   "file_extension": ".py",
   "mimetype": "text/x-python",
   "name": "python",
   "nbconvert_exporter": "python",
   "pygments_lexer": "ipython3",
   "version": "3.10.8"
  }
 },
 "nbformat": 4,
 "nbformat_minor": 5
}
