{
 "cells": [
  {
   "cell_type": "markdown",
   "id": "f5163de6",
   "metadata": {},
   "source": [
    "# Multi-class Classification (Word Embeddings)\n",
    "\n",
    "In this notebook I am apply different machine learning models to predict the skills that I need from the job descriptions.\n",
    "\n",
    "## Table of contents\n",
    "\n",
    "1. [Dataset preparation](#Dataset-Preparation)\n",
    "2. [Text preprocessing](#Text-Preprocessing)\n",
    "3. [Word Embeddings](#Word-Embeddings)\n",
    "    1. [Model Configuration](#Model-Configuration)\n",
    "    2. [Callbacks](#Callbacks)\n",
    "    3. [Training](#Training)\n",
    "\n",
    "## Dataset Preparation"
   ]
  },
  {
   "cell_type": "code",
   "execution_count": 1,
   "id": "63cf97d3",
   "metadata": {},
   "outputs": [],
   "source": [
    "import sys\n",
    "sys.path.append(\"..\")\n",
    "sys.path.append(\"../modeling/\")"
   ]
  },
  {
   "cell_type": "code",
   "execution_count": 2,
   "id": "54cf07a9",
   "metadata": {},
   "outputs": [],
   "source": [
    "import io\n",
    "import random\n",
    "import numpy as np\n",
    "import pandas as pd                # Data processing\n",
    "\n",
    "# Visualization imports\n",
    "import matplotlib.pyplot as plt    # Data visualization purposes\n",
    "import seaborn as sns              # Statistical data visualization\n",
    "sns.set_theme()                    # Seaborn will handle plotting theme\n",
    "%matplotlib inline\n",
    "\n",
    "# Scikit-learn imports\n",
    "from sklearn.model_selection import train_test_split\n",
    "\n",
    "# Tensorflow imports\n",
    "import tensorflow as tf\n",
    "from tensorflow.keras.layers import TextVectorization\n",
    "from tensorflow.keras import Sequential\n",
    "from tensorflow.keras.layers import Dense, Embedding, GlobalAveragePooling1D"
   ]
  },
  {
   "cell_type": "code",
   "execution_count": 3,
   "id": "d6d36150",
   "metadata": {},
   "outputs": [],
   "source": [
    "df = pd.read_csv('noun_chunks_classified.csv')\n",
    "df['type'].value_counts()\n",
    "df_skills     = df[df['type'] != \"not_skill\"]\n",
    "df_not_skills = df[df['type'] == \"not_skill\"].sample(n=len(df[df['type'] == \"hard_skill\"]))\n",
    "df = pd.concat([df_skills, df_not_skills], ignore_index=True)"
   ]
  },
  {
   "cell_type": "code",
   "execution_count": 4,
   "id": "c85ccd9f",
   "metadata": {},
   "outputs": [
    {
     "data": {
      "text/plain": [
       "18"
      ]
     },
     "execution_count": 4,
     "metadata": {},
     "output_type": "execute_result"
    }
   ],
   "source": [
    "test_ratio = 0.4\n",
    "\n",
    "# Extract features and prediction vectors\n",
    "X = df['chunks']\n",
    "y = df['type'].map({'not_skill':0, 'hard_skill':1, 'soft_skill':2})\n",
    "\n",
    "# Split into train, test and validation sets\n",
    "X_train, X_temp, y_train, y_temp = train_test_split(X, y, test_size = test_ratio, random_state = 0)\n",
    "X_val, X_test, y_val, y_test = train_test_split(X_temp, y_temp, test_size = 0.5, random_state = 0)\n",
    "    \n",
    "X_train.shape, X_test.shape, X_val.shape\n",
    "X.str.split().str.len().max()"
   ]
  },
  {
   "cell_type": "code",
   "execution_count": 5,
   "id": "929917db",
   "metadata": {},
   "outputs": [],
   "source": [
    "# Prepare the training dataset\n",
    "train_ds = tf.data.Dataset.from_tensor_slices((X_train, y_train))\n",
    "train_ds = train_ds.shuffle(buffer_size=1024).batch(64)\n",
    "\n",
    "# Prepare the validation dataset\n",
    "val_ds = tf.data.Dataset.from_tensor_slices((X_val, y_val))\n",
    "val_ds = val_ds.batch(64)\n",
    "\n",
    "# Prepare the testing dataset\n",
    "test_ds = tf.data.Dataset.from_tensor_slices((X_test, y_test))\n",
    "test_ds = test_ds.batch(64)"
   ]
  },
  {
   "cell_type": "markdown",
   "id": "fda14fd8",
   "metadata": {},
   "source": [
    "As per tensorflow tutorial: https://www.tensorflow.org/text/guide/word_embeddings#configure_the_dataset_for_performance\n",
    "\n",
    "`.cache()` Keeps data in memory after it's loaded off disk. This will ensure the dataset does not become a bottleneck while training your model. If your dataset is too large to fit into memory, you can also use this method to create a performant on-disk cache, which is more efficient to read than many small files.\n",
    "\n",
    "`.prefetch()` Overlaps data preprocessing and model execution while training."
   ]
  },
  {
   "cell_type": "code",
   "execution_count": 6,
   "id": "03306faa",
   "metadata": {},
   "outputs": [],
   "source": [
    "AUTOTUNE = tf.data.AUTOTUNE\n",
    "\n",
    "train_ds = train_ds.cache().prefetch(buffer_size=AUTOTUNE)\n",
    "val_ds   = val_ds.cache().prefetch(buffer_size=AUTOTUNE)\n",
    "test_ds  = test_ds.cache().prefetch(buffer_size=AUTOTUNE)"
   ]
  },
  {
   "cell_type": "markdown",
   "id": "053b2d94",
   "metadata": {},
   "source": [
    "Let's understand how the tensorflow dataset is constructed:"
   ]
  },
  {
   "cell_type": "code",
   "execution_count": 7,
   "id": "7938206c",
   "metadata": {},
   "outputs": [
    {
     "name": "stdout",
     "output_type": "stream",
     "text": [
      "1 b'Python SQL programming languages'\n",
      "1 b'Advanced SQL'\n",
      "1 b'ML Ops best practices'\n",
      "0 b'creatively Familiarity'\n",
      "0 b'Cooperate'\n"
     ]
    }
   ],
   "source": [
    "for text_batch, label_batch in train_ds.take(1):\n",
    "    for i in range(5):\n",
    "        print(label_batch[i].numpy(), text_batch.numpy()[i])"
   ]
  },
  {
   "cell_type": "markdown",
   "id": "e12701ef",
   "metadata": {},
   "source": [
    "## Text Preprocessing"
   ]
  },
  {
   "cell_type": "code",
   "execution_count": 8,
   "id": "c2dc5b90",
   "metadata": {},
   "outputs": [],
   "source": [
    "# Custom standardization function to strip remove uneccessary text and symbols.\n",
    "def custom_standardization(input_data):\n",
    "    input_df = tf.strings.lower(input_data)\n",
    "    input_df = tf.strings.regex_replace(input_df, '(e.g.?)|(i.e.?).', '')\n",
    "    input_df = tf.strings.regex_replace(input_df, '[^\\u0020-\\u007E]', ' ')\n",
    "    input_df = tf.strings.regex_replace(input_df, '\\b[\\w\\.-]+@[\\w\\.-]+\\.\\w{2,6}\\b', '')\n",
    "    input_df = tf.strings.regex_replace(input_df, '(https?:\\/\\/)?([\\da-z\\.-]+)\\.([a-z\\.]{2,6})([\\/\\w \\.-]*)', '')\n",
    "    input_df = tf.strings.regex_replace(input_df, '\\B#([a-z0-9]{1,})', ' ')\n",
    "    input_df = tf.strings.regex_replace(input_df, '[^\\w\\s+#]', ' ')\n",
    "    \n",
    "    return tf.strings.regex_replace(input_df, '(\\s{2,})|(\\n+)', ' ')"
   ]
  },
  {
   "cell_type": "code",
   "execution_count": 9,
   "id": "4b3acdd7",
   "metadata": {},
   "outputs": [],
   "source": [
    "# Vocabulary size and number of words in a sequence.\n",
    "vocab_size = 2500\n",
    "sequence_length = 20\n",
    "\n",
    "# Use the text vectorization layer to normalize, split, and map strings to\n",
    "# integers. Note that the layer uses the custom standardization defined above.\n",
    "# Set maximum_sequence length as all samples are not of the same length.\n",
    "vectorize_layer = TextVectorization(\n",
    "    standardize=custom_standardization,\n",
    "    max_tokens=vocab_size,\n",
    "    output_mode='int',\n",
    "    output_sequence_length=sequence_length)\n",
    "\n",
    "vectorize_layer.adapt(X_train)"
   ]
  },
  {
   "cell_type": "code",
   "execution_count": 10,
   "id": "f4c9e5c6",
   "metadata": {},
   "outputs": [
    {
     "name": "stdout",
     "output_type": "stream",
     "text": [
      "Vocabulary size: 909\n",
      "Word number 566 --->  ne\n"
     ]
    }
   ],
   "source": [
    "vocabulary = vectorize_layer.get_vocabulary()\n",
    "print('Vocabulary size: {}'.format(len(vocabulary)))\n",
    "\n",
    "num = random.randint(1, len(vocabulary))\n",
    "print(f\"Word number {num} ---> \", vocabulary[num])"
   ]
  },
  {
   "cell_type": "markdown",
   "id": "a5dcc2af",
   "metadata": {},
   "source": [
    "## Word Embeddings\n",
    "\n",
    "Insert description\n",
    "\n",
    "### Model Configuration"
   ]
  },
  {
   "cell_type": "code",
   "execution_count": 11,
   "id": "38208bb7",
   "metadata": {},
   "outputs": [],
   "source": [
    "embedding_dim=16\n",
    "\n",
    "model = tf.keras.Sequential([\n",
    "    tf.keras.Input(shape=(1,), dtype=tf.string),\n",
    "    vectorize_layer,\n",
    "    Embedding(vocab_size, embedding_dim, name=\"embedding\"),\n",
    "    GlobalAveragePooling1D(),\n",
    "    Dense(16, activation='relu'),\n",
    "    Dense(3, activation='softmax')\n",
    "])"
   ]
  },
  {
   "cell_type": "code",
   "execution_count": 12,
   "id": "4e5983df",
   "metadata": {},
   "outputs": [
    {
     "name": "stdout",
     "output_type": "stream",
     "text": [
      "Model: \"sequential\"\n",
      "_________________________________________________________________\n",
      " Layer (type)                Output Shape              Param #   \n",
      "=================================================================\n",
      " text_vectorization (TextVec  (None, 20)               0         \n",
      " torization)                                                     \n",
      "                                                                 \n",
      " embedding (Embedding)       (None, 20, 16)            40000     \n",
      "                                                                 \n",
      " global_average_pooling1d (G  (None, 16)               0         \n",
      " lobalAveragePooling1D)                                          \n",
      "                                                                 \n",
      " dense (Dense)               (None, 16)                272       \n",
      "                                                                 \n",
      " dense_1 (Dense)             (None, 3)                 51        \n",
      "                                                                 \n",
      "=================================================================\n",
      "Total params: 40,323\n",
      "Trainable params: 40,323\n",
      "Non-trainable params: 0\n",
      "_________________________________________________________________\n"
     ]
    }
   ],
   "source": [
    "model.summary()"
   ]
  },
  {
   "cell_type": "code",
   "execution_count": 13,
   "id": "39399e0c",
   "metadata": {},
   "outputs": [],
   "source": [
    "model.compile(optimizer=tf.keras.optimizers.Adam(learning_rate=0.001),\n",
    "              loss=tf.keras.losses.SparseCategoricalCrossentropy(),\n",
    "              metrics=['accuracy'])"
   ]
  },
  {
   "cell_type": "markdown",
   "id": "8e7259ad",
   "metadata": {},
   "source": [
    "### Callbacks"
   ]
  },
  {
   "cell_type": "code",
   "execution_count": 14,
   "id": "3268dd00",
   "metadata": {},
   "outputs": [],
   "source": [
    "tf_callbacks = [\n",
    "    tf.keras.callbacks.TensorBoard(log_dir=\"logs\"),\n",
    "    tf.keras.callbacks.EarlyStopping(monitor='val_loss', patience=5, start_from_epoch=15, verbose=1)\n",
    "]"
   ]
  },
  {
   "cell_type": "markdown",
   "id": "720e51a0",
   "metadata": {},
   "source": [
    "### Training"
   ]
  },
  {
   "cell_type": "code",
   "execution_count": 15,
   "id": "805f3c31",
   "metadata": {},
   "outputs": [
    {
     "name": "stdout",
     "output_type": "stream",
     "text": [
      "Epoch 1/200\n",
      "11/11 [==============================] - 1s 40ms/step - loss: 1.0773 - accuracy: 0.4567 - val_loss: 1.0626 - val_accuracy: 0.4911\n",
      "Epoch 2/200\n",
      "11/11 [==============================] - 0s 13ms/step - loss: 1.0568 - accuracy: 0.4582 - val_loss: 1.0401 - val_accuracy: 0.4911\n",
      "Epoch 3/200\n",
      "11/11 [==============================] - 0s 11ms/step - loss: 1.0348 - accuracy: 0.4612 - val_loss: 1.0153 - val_accuracy: 0.4911\n",
      "Epoch 4/200\n",
      "11/11 [==============================] - 0s 11ms/step - loss: 1.0104 - accuracy: 0.4642 - val_loss: 0.9888 - val_accuracy: 0.4911\n",
      "Epoch 5/200\n",
      "11/11 [==============================] - 0s 12ms/step - loss: 0.9848 - accuracy: 0.4687 - val_loss: 0.9619 - val_accuracy: 0.4911\n",
      "Epoch 6/200\n",
      "11/11 [==============================] - 0s 12ms/step - loss: 0.9596 - accuracy: 0.4746 - val_loss: 0.9361 - val_accuracy: 0.4955\n",
      "Epoch 7/200\n",
      "11/11 [==============================] - 0s 10ms/step - loss: 0.9362 - accuracy: 0.4910 - val_loss: 0.9133 - val_accuracy: 0.5089\n",
      "Epoch 8/200\n",
      "11/11 [==============================] - 0s 11ms/step - loss: 0.9159 - accuracy: 0.5060 - val_loss: 0.8943 - val_accuracy: 0.5536\n",
      "Epoch 9/200\n",
      "11/11 [==============================] - 0s 12ms/step - loss: 0.8995 - accuracy: 0.5388 - val_loss: 0.8798 - val_accuracy: 0.5938\n",
      "Epoch 10/200\n",
      "11/11 [==============================] - 0s 12ms/step - loss: 0.8867 - accuracy: 0.6060 - val_loss: 0.8681 - val_accuracy: 0.6429\n",
      "Epoch 11/200\n",
      "11/11 [==============================] - 0s 13ms/step - loss: 0.8765 - accuracy: 0.6910 - val_loss: 0.8595 - val_accuracy: 0.7545\n",
      "Epoch 12/200\n",
      "11/11 [==============================] - 0s 11ms/step - loss: 0.8687 - accuracy: 0.7716 - val_loss: 0.8533 - val_accuracy: 0.7902\n",
      "Epoch 13/200\n",
      "11/11 [==============================] - 0s 15ms/step - loss: 0.8623 - accuracy: 0.8090 - val_loss: 0.8482 - val_accuracy: 0.7812\n",
      "Epoch 14/200\n",
      "11/11 [==============================] - 0s 15ms/step - loss: 0.8562 - accuracy: 0.8343 - val_loss: 0.8435 - val_accuracy: 0.7991\n",
      "Epoch 15/200\n",
      "11/11 [==============================] - 0s 13ms/step - loss: 0.8498 - accuracy: 0.8403 - val_loss: 0.8386 - val_accuracy: 0.8080\n",
      "Epoch 16/200\n",
      "11/11 [==============================] - 0s 10ms/step - loss: 0.8430 - accuracy: 0.8433 - val_loss: 0.8333 - val_accuracy: 0.8080\n",
      "Epoch 17/200\n",
      "11/11 [==============================] - 0s 11ms/step - loss: 0.8354 - accuracy: 0.8463 - val_loss: 0.8275 - val_accuracy: 0.8080\n",
      "Epoch 18/200\n",
      "11/11 [==============================] - 0s 12ms/step - loss: 0.8270 - accuracy: 0.8463 - val_loss: 0.8211 - val_accuracy: 0.8125\n",
      "Epoch 19/200\n",
      "11/11 [==============================] - 0s 15ms/step - loss: 0.8179 - accuracy: 0.8463 - val_loss: 0.8141 - val_accuracy: 0.8125\n",
      "Epoch 20/200\n",
      "11/11 [==============================] - 0s 11ms/step - loss: 0.8078 - accuracy: 0.8478 - val_loss: 0.8063 - val_accuracy: 0.8125\n",
      "Epoch 21/200\n",
      "11/11 [==============================] - 0s 15ms/step - loss: 0.7968 - accuracy: 0.8493 - val_loss: 0.7979 - val_accuracy: 0.8125\n",
      "Epoch 22/200\n",
      "11/11 [==============================] - 0s 10ms/step - loss: 0.7843 - accuracy: 0.8493 - val_loss: 0.7884 - val_accuracy: 0.8125\n",
      "Epoch 23/200\n",
      "11/11 [==============================] - 0s 11ms/step - loss: 0.7704 - accuracy: 0.8552 - val_loss: 0.7774 - val_accuracy: 0.8125\n",
      "Epoch 24/200\n",
      "11/11 [==============================] - 0s 10ms/step - loss: 0.7552 - accuracy: 0.8493 - val_loss: 0.7654 - val_accuracy: 0.8036\n",
      "Epoch 25/200\n",
      "11/11 [==============================] - 0s 15ms/step - loss: 0.7388 - accuracy: 0.8507 - val_loss: 0.7532 - val_accuracy: 0.8080\n",
      "Epoch 26/200\n",
      "11/11 [==============================] - 0s 13ms/step - loss: 0.7214 - accuracy: 0.8522 - val_loss: 0.7400 - val_accuracy: 0.8080\n",
      "Epoch 27/200\n",
      "11/11 [==============================] - 0s 12ms/step - loss: 0.7027 - accuracy: 0.8522 - val_loss: 0.7253 - val_accuracy: 0.8080\n",
      "Epoch 28/200\n",
      "11/11 [==============================] - 0s 11ms/step - loss: 0.6817 - accuracy: 0.8597 - val_loss: 0.7107 - val_accuracy: 0.8036\n",
      "Epoch 29/200\n",
      "11/11 [==============================] - 0s 11ms/step - loss: 0.6602 - accuracy: 0.8627 - val_loss: 0.6939 - val_accuracy: 0.8036\n",
      "Epoch 30/200\n",
      "11/11 [==============================] - 0s 14ms/step - loss: 0.6371 - accuracy: 0.8642 - val_loss: 0.6765 - val_accuracy: 0.8036\n",
      "Epoch 31/200\n",
      "11/11 [==============================] - 0s 13ms/step - loss: 0.6129 - accuracy: 0.8701 - val_loss: 0.6589 - val_accuracy: 0.8080\n",
      "Epoch 32/200\n",
      "11/11 [==============================] - 0s 13ms/step - loss: 0.5871 - accuracy: 0.8761 - val_loss: 0.6405 - val_accuracy: 0.8214\n",
      "Epoch 33/200\n",
      "11/11 [==============================] - 0s 12ms/step - loss: 0.5606 - accuracy: 0.8761 - val_loss: 0.6221 - val_accuracy: 0.8259\n",
      "Epoch 34/200\n",
      "11/11 [==============================] - 0s 12ms/step - loss: 0.5345 - accuracy: 0.8791 - val_loss: 0.6032 - val_accuracy: 0.8259\n",
      "Epoch 35/200\n",
      "11/11 [==============================] - 0s 11ms/step - loss: 0.5086 - accuracy: 0.8806 - val_loss: 0.5856 - val_accuracy: 0.8214\n",
      "Epoch 36/200\n",
      "11/11 [==============================] - 0s 13ms/step - loss: 0.4832 - accuracy: 0.8836 - val_loss: 0.5690 - val_accuracy: 0.8259\n",
      "Epoch 37/200\n",
      "11/11 [==============================] - 0s 12ms/step - loss: 0.4582 - accuracy: 0.8866 - val_loss: 0.5518 - val_accuracy: 0.8214\n",
      "Epoch 38/200\n",
      "11/11 [==============================] - 0s 21ms/step - loss: 0.4339 - accuracy: 0.8881 - val_loss: 0.5360 - val_accuracy: 0.8304\n",
      "Epoch 39/200\n",
      "11/11 [==============================] - 0s 16ms/step - loss: 0.4108 - accuracy: 0.8925 - val_loss: 0.5214 - val_accuracy: 0.8348\n",
      "Epoch 40/200\n",
      "11/11 [==============================] - 0s 16ms/step - loss: 0.3889 - accuracy: 0.8970 - val_loss: 0.5080 - val_accuracy: 0.8304\n",
      "Epoch 41/200\n",
      "11/11 [==============================] - 0s 17ms/step - loss: 0.3683 - accuracy: 0.9015 - val_loss: 0.4954 - val_accuracy: 0.8348\n",
      "Epoch 42/200\n",
      "11/11 [==============================] - 0s 10ms/step - loss: 0.3487 - accuracy: 0.9134 - val_loss: 0.4840 - val_accuracy: 0.8348\n",
      "Epoch 43/200\n",
      "11/11 [==============================] - 0s 11ms/step - loss: 0.3304 - accuracy: 0.9194 - val_loss: 0.4732 - val_accuracy: 0.8393\n",
      "Epoch 44/200\n",
      "11/11 [==============================] - 0s 11ms/step - loss: 0.3132 - accuracy: 0.9209 - val_loss: 0.4634 - val_accuracy: 0.8393\n",
      "Epoch 45/200\n",
      "11/11 [==============================] - 0s 11ms/step - loss: 0.2971 - accuracy: 0.9299 - val_loss: 0.4548 - val_accuracy: 0.8393\n",
      "Epoch 46/200\n",
      "11/11 [==============================] - 0s 14ms/step - loss: 0.2821 - accuracy: 0.9358 - val_loss: 0.4469 - val_accuracy: 0.8393\n",
      "Epoch 47/200\n",
      "11/11 [==============================] - 0s 17ms/step - loss: 0.2681 - accuracy: 0.9418 - val_loss: 0.4397 - val_accuracy: 0.8438\n",
      "Epoch 48/200\n",
      "11/11 [==============================] - 0s 12ms/step - loss: 0.2549 - accuracy: 0.9463 - val_loss: 0.4331 - val_accuracy: 0.8438\n",
      "Epoch 49/200\n",
      "11/11 [==============================] - 0s 11ms/step - loss: 0.2426 - accuracy: 0.9522 - val_loss: 0.4273 - val_accuracy: 0.8438\n",
      "Epoch 50/200\n",
      "11/11 [==============================] - 0s 11ms/step - loss: 0.2311 - accuracy: 0.9552 - val_loss: 0.4221 - val_accuracy: 0.8482\n",
      "Epoch 51/200\n",
      "11/11 [==============================] - 0s 13ms/step - loss: 0.2203 - accuracy: 0.9537 - val_loss: 0.4173 - val_accuracy: 0.8482\n",
      "Epoch 52/200\n",
      "11/11 [==============================] - 0s 14ms/step - loss: 0.2101 - accuracy: 0.9552 - val_loss: 0.4130 - val_accuracy: 0.8527\n",
      "Epoch 53/200\n",
      "11/11 [==============================] - 0s 11ms/step - loss: 0.2006 - accuracy: 0.9567 - val_loss: 0.4093 - val_accuracy: 0.8527\n",
      "Epoch 54/200\n",
      "11/11 [==============================] - 0s 11ms/step - loss: 0.1916 - accuracy: 0.9597 - val_loss: 0.4060 - val_accuracy: 0.8571\n",
      "Epoch 55/200\n",
      "11/11 [==============================] - 0s 15ms/step - loss: 0.1832 - accuracy: 0.9612 - val_loss: 0.4031 - val_accuracy: 0.8616\n",
      "Epoch 56/200\n",
      "11/11 [==============================] - 0s 11ms/step - loss: 0.1752 - accuracy: 0.9657 - val_loss: 0.4005 - val_accuracy: 0.8616\n",
      "Epoch 57/200\n",
      "11/11 [==============================] - 0s 19ms/step - loss: 0.1678 - accuracy: 0.9657 - val_loss: 0.3983 - val_accuracy: 0.8750\n",
      "Epoch 58/200\n"
     ]
    },
    {
     "name": "stdout",
     "output_type": "stream",
     "text": [
      "11/11 [==============================] - 0s 14ms/step - loss: 0.1607 - accuracy: 0.9687 - val_loss: 0.3964 - val_accuracy: 0.8795\n",
      "Epoch 59/200\n",
      "11/11 [==============================] - 0s 12ms/step - loss: 0.1541 - accuracy: 0.9716 - val_loss: 0.3948 - val_accuracy: 0.8839\n",
      "Epoch 60/200\n",
      "11/11 [==============================] - 0s 10ms/step - loss: 0.1478 - accuracy: 0.9731 - val_loss: 0.3936 - val_accuracy: 0.8839\n",
      "Epoch 61/200\n",
      "11/11 [==============================] - 0s 10ms/step - loss: 0.1419 - accuracy: 0.9731 - val_loss: 0.3925 - val_accuracy: 0.8839\n",
      "Epoch 62/200\n",
      "11/11 [==============================] - 0s 15ms/step - loss: 0.1363 - accuracy: 0.9731 - val_loss: 0.3916 - val_accuracy: 0.8839\n",
      "Epoch 63/200\n",
      "11/11 [==============================] - 0s 11ms/step - loss: 0.1309 - accuracy: 0.9731 - val_loss: 0.3910 - val_accuracy: 0.8839\n",
      "Epoch 64/200\n",
      "11/11 [==============================] - 0s 12ms/step - loss: 0.1259 - accuracy: 0.9731 - val_loss: 0.3906 - val_accuracy: 0.8795\n",
      "Epoch 65/200\n",
      "11/11 [==============================] - 0s 11ms/step - loss: 0.1211 - accuracy: 0.9731 - val_loss: 0.3903 - val_accuracy: 0.8795\n",
      "Epoch 66/200\n",
      "11/11 [==============================] - 0s 14ms/step - loss: 0.1166 - accuracy: 0.9731 - val_loss: 0.3902 - val_accuracy: 0.8795\n",
      "Epoch 67/200\n",
      "11/11 [==============================] - 0s 13ms/step - loss: 0.1123 - accuracy: 0.9731 - val_loss: 0.3903 - val_accuracy: 0.8795\n",
      "Epoch 68/200\n",
      "11/11 [==============================] - 0s 19ms/step - loss: 0.1082 - accuracy: 0.9731 - val_loss: 0.3904 - val_accuracy: 0.8795\n",
      "Epoch 69/200\n",
      "11/11 [==============================] - 0s 10ms/step - loss: 0.1043 - accuracy: 0.9731 - val_loss: 0.3907 - val_accuracy: 0.8795\n",
      "Epoch 70/200\n",
      "11/11 [==============================] - 0s 11ms/step - loss: 0.1006 - accuracy: 0.9731 - val_loss: 0.3912 - val_accuracy: 0.8839\n",
      "Epoch 71/200\n",
      "11/11 [==============================] - 0s 12ms/step - loss: 0.0971 - accuracy: 0.9746 - val_loss: 0.3917 - val_accuracy: 0.8839\n",
      "Epoch 71: early stopping\n"
     ]
    }
   ],
   "source": [
    "NUM_EPOCHS = 200\n",
    "\n",
    "history = model.fit(train_ds, validation_data=val_ds, epochs=NUM_EPOCHS, callbacks=tf_callbacks)"
   ]
  },
  {
   "cell_type": "code",
   "execution_count": 16,
   "id": "96e7f4e5",
   "metadata": {},
   "outputs": [
    {
     "name": "stdout",
     "output_type": "stream",
     "text": [
      "4/4 [==============================] - 0s 3ms/step - loss: 0.4348 - accuracy: 0.8571\n",
      "Loss: 0.43484026193618774, Accuracy: 0.8571428656578064\n"
     ]
    }
   ],
   "source": [
    "loss, accuracy = model.evaluate(test_ds)\n",
    "print(f'Loss: {loss}, Accuracy: {accuracy}')"
   ]
  },
  {
   "cell_type": "markdown",
   "id": "bad6ba6a",
   "metadata": {},
   "source": [
    "We see at this point that our naive model achieves an accuracy of 0.75 and a loss of 0.64. This model behaves poorly.\n",
    "\n",
    "Another observation we can make is that this simple model is overfitting the data, as the training set accuracy is higher than the validation set accuracy."
   ]
  },
  {
   "cell_type": "code",
   "execution_count": 17,
   "id": "875f8df2",
   "metadata": {},
   "outputs": [
    {
     "data": {
      "text/plain": [
       "dict_keys(['loss', 'accuracy', 'val_loss', 'val_accuracy'])"
      ]
     },
     "execution_count": 17,
     "metadata": {},
     "output_type": "execute_result"
    }
   ],
   "source": [
    "history_dict = history.history\n",
    "history_dict.keys()"
   ]
  },
  {
   "cell_type": "code",
   "execution_count": 18,
   "id": "7116ea60",
   "metadata": {},
   "outputs": [
    {
     "data": {
      "image/png": "[encoded data removed]",
      "text/plain": [
       "<Figure size 1000x400 with 2 Axes>"
      ]
     },
     "metadata": {},
     "output_type": "display_data"
    }
   ],
   "source": [
    "acc      = history_dict['accuracy']\n",
    "val_acc  = history_dict['val_accuracy']\n",
    "loss     = history_dict['loss']\n",
    "val_loss = history_dict['val_loss']\n",
    "\n",
    "epochs = range(1, len(acc) + 1)\n",
    "\n",
    "fig, axes = plt.subplots(1, 2, figsize=(10, 4))\n",
    "plt.subplots_adjust(wspace=0.3)\n",
    "\n",
    "axes[0].plot(epochs, acc, 'b', label='Training acc')\n",
    "axes[0].plot(epochs, val_acc, 'r', label='Validation acc')\n",
    "\n",
    "axes[0].set_title('Training and validation accuracy')\n",
    "axes[0].set_xlabel('Epochs')\n",
    "axes[0].set_ylabel('Accuracy')\n",
    "axes[0].legend(loc='lower right')\n",
    "\n",
    "axes[1].plot(epochs, loss, 'b', label='Training loss')\n",
    "axes[1].plot(epochs, val_loss, 'r', label='Validation loss')\n",
    "\n",
    "axes[1].set_title('Training and validation loss')\n",
    "axes[1].set_xlabel('Epochs')\n",
    "axes[1].set_ylabel('Loss')\n",
    "axes[1].legend()\n",
    "\n",
    "plt.show()"
   ]
  },
  {
   "cell_type": "markdown",
   "id": "596aa366",
   "metadata": {},
   "source": [
    "## Export the model\n",
    "\n",
    "The exported model weights and metadata can be used to visualize the vector space here:\n",
    "http://projector.tensorflow.org/"
   ]
  },
  {
   "cell_type": "code",
   "execution_count": 19,
   "id": "56a4c0c8",
   "metadata": {},
   "outputs": [],
   "source": [
    "weights = model.get_layer('embedding').get_weights()[0]\n",
    "vocab = vectorize_layer.get_vocabulary()"
   ]
  },
  {
   "cell_type": "code",
   "execution_count": 20,
   "id": "4a494e36",
   "metadata": {},
   "outputs": [],
   "source": [
    "out_v = io.open('vectors.tsv', 'w', encoding='utf-8')\n",
    "out_m = io.open('metadata.tsv', 'w', encoding='utf-8')\n",
    "\n",
    "for index, word in enumerate(vocab):\n",
    "    if index == 0:\n",
    "        continue  # skip 0, it's padding.\n",
    "    vec = weights[index]\n",
    "    out_v.write('\\t'.join([str(x) for x in vec]) + \"\\n\")\n",
    "    out_m.write(word + \"\\n\")\n",
    "out_v.close()\n",
    "out_m.close()"
   ]
  },
  {
   "cell_type": "code",
   "execution_count": null,
   "id": "480c53e1",
   "metadata": {},
   "outputs": [],
   "source": []
  }
 ],
 "metadata": {
  "kernelspec": {
   "display_name": "Python 3 (ipykernel)",
   "language": "python",
   "name": "python3"
  },
  "language_info": {
   "codemirror_mode": {
    "name": "ipython",
    "version": 3
   },
   "file_extension": ".py",
   "mimetype": "text/x-python",
   "name": "python",
   "nbconvert_exporter": "python",
   "pygments_lexer": "ipython3",
   "version": "3.10.8"
  }
 },
 "nbformat": 4,
 "nbformat_minor": 5
}
